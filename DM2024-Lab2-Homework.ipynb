{
 "cells": [
  {
   "attachments": {
    "705dc4e6-f7e8-45f2-b5d3-c64ad519838f.png": {
     "image/png": "[encoded data removed]"
    }
   },
   "cell_type": "markdown",
   "metadata": {},
   "source": [
    "### Student Information\n",
    "Name: 邱一恩\n",
    "\n",
    "Student ID: 113033628\n",
    "\n",
    "GitHub ID: En90\n",
    "\n",
    "Kaggle name: DM-2024 113033628\n",
    "\n",
    "Kaggle private scoreboard snapshot:\n",
    "![image.png](attachment:705dc4e6-f7e8-45f2-b5d3-c64ad519838f.png)"
   ]
  },
  {
   "cell_type": "markdown",
   "metadata": {},
   "source": [
    "---"
   ]
  },
  {
   "cell_type": "markdown",
   "metadata": {},
   "source": [
    "### Instructions"
   ]
  },
  {
   "cell_type": "markdown",
   "metadata": {},
   "source": [
    "1. First: __This part is worth 30% of your grade.__ Do the **take home exercises** in the [DM2024-Lab2-master Repo](https://github.com/didiersalazar/DM2024-Lab2-Master). You may need to copy some cells from the Lab notebook to this notebook. \n",
    "\n",
    "\n",
    "2. Second: __This part is worth 30% of your grade.__ Participate in the in-class [Kaggle Competition](https://www.kaggle.com/competitions/dm-2024-isa-5810-lab-2-homework) regarding Emotion Recognition on Twitter by this link: https://www.kaggle.com/competitions/dm-2024-isa-5810-lab-2-homework. The scoring will be given according to your place in the Private Leaderboard ranking: \n",
    "    - **Bottom 40%**: Get 20% of the 30% available for this section.\n",
    "\n",
    "    - **Top 41% - 100%**: Get (0.6N + 1 - x) / (0.6N) * 10 + 20 points, where N is the total number of participants, and x is your rank. (ie. If there are 100 participants and you rank 3rd your score will be (0.6 * 100 + 1 - 3) / (0.6 * 100) * 10 + 20 = 29.67% out of 30%.)   \n",
    "    Submit your last submission **BEFORE the deadline (Nov. 26th, 11:59 pm, Tuesday)**. Make sure to take a screenshot of your position at the end of the competition and store it as '''pic0.png''' under the **img** folder of this repository and rerun the cell **Student Information**.\n",
    "    \n",
    "\n",
    "3. Third: __This part is worth 30% of your grade.__ A report of your work developing the model for the competition (You can use code and comment on it). This report should include what your preprocessing steps, the feature engineering steps and an explanation of your model. You can also mention different things you tried and insights you gained. \n",
    "\n",
    "\n",
    "4. Fourth: __This part is worth 10% of your grade.__ It's hard for us to follow if your code is messy :'(, so please **tidy up your notebook**.\n",
    "\n",
    "\n",
    "Upload your files to your repository then submit the link to it on the corresponding e-learn assignment.\n",
    "\n",
    "Make sure to commit and save your changes to your repository __BEFORE the deadline (Nov. 26th, 11:59 pm, Tuesday)__. "
   ]
  },
  {
   "cell_type": "code",
   "execution_count": 1,
   "metadata": {},
   "outputs": [],
   "source": [
    "### Begin Assignment Here"
   ]
  },
  {
   "cell_type": "markdown",
   "metadata": {},
   "source": [
    "# Import Module"
   ]
  },
  {
   "cell_type": "code",
   "execution_count": 2,
   "metadata": {},
   "outputs": [
    {
     "name": "stdout",
     "output_type": "stream",
     "text": [
      "WARNING:tensorflow:From C:\\Users\\USER\\data\\python_virtual_env\\DM2024\\Lib\\site-packages\\tf_keras\\src\\losses.py:2976: The name tf.losses.sparse_softmax_cross_entropy is deprecated. Please use tf.compat.v1.losses.sparse_softmax_cross_entropy instead.\n",
      "\n"
     ]
    }
   ],
   "source": [
    "import pandas as pd\n",
    "import numpy as np\n",
    "import pickle\n",
    "from sklearn.feature_extraction.text import TfidfVectorizer\n",
    "from sklearn.feature_extraction.text import CountVectorizer\n",
    "from sklearn.model_selection import train_test_split\n",
    "from sklearn.naive_bayes import MultinomialNB\n",
    "from sklearn.tree import DecisionTreeClassifier\n",
    "from sklearn.metrics import classification_report, accuracy_score\n",
    "from sklearn.preprocessing import LabelEncoder\n",
    "from sklearn.neighbors import KNeighborsClassifier\n",
    "import keras\n",
    "from keras.models import Model\n",
    "from keras.layers import Input, Dense\n",
    "from keras.layers import ReLU, Softmax\n",
    "from keras.callbacks import CSVLogger, EarlyStopping, ModelCheckpoint\n",
    "from keras.optimizers import Adam\n",
    "import matplotlib.pyplot as plt\n",
    "from matplotlib.ticker import MultipleLocator\n",
    "import ollama\n",
    "from tqdm import tqdm, tqdm_pandas\n",
    "from tqdm import tqdm_notebook\n",
    "import tensorflow_model_optimization as tfmot"
   ]
  },
  {
   "cell_type": "markdown",
   "metadata": {},
   "source": [
    "# Load Data"
   ]
  },
  {
   "cell_type": "code",
   "execution_count": 3,
   "metadata": {},
   "outputs": [
    {
     "data": {
      "text/html": [
       "<div>\n",
       "<style scoped>\n",
       "    .dataframe tbody tr th:only-of-type {\n",
       "        vertical-align: middle;\n",
       "    }\n",
       "\n",
       "    .dataframe tbody tr th {\n",
       "        vertical-align: top;\n",
       "    }\n",
       "\n",
       "    .dataframe thead th {\n",
       "        text-align: right;\n",
       "    }\n",
       "</style>\n",
       "<table border=\"1\" class=\"dataframe\">\n",
       "  <thead>\n",
       "    <tr style=\"text-align: right;\">\n",
       "      <th></th>\n",
       "      <th>_score</th>\n",
       "      <th>_index</th>\n",
       "      <th>_source</th>\n",
       "      <th>_crawldate</th>\n",
       "      <th>_type</th>\n",
       "    </tr>\n",
       "  </thead>\n",
       "  <tbody>\n",
       "    <tr>\n",
       "      <th>0</th>\n",
       "      <td>391</td>\n",
       "      <td>hashtag_tweets</td>\n",
       "      <td>{'tweet': {'hashtags': ['Snapchat'], 'tweet_id...</td>\n",
       "      <td>2015-05-23 11:42:47</td>\n",
       "      <td>tweets</td>\n",
       "    </tr>\n",
       "    <tr>\n",
       "      <th>1</th>\n",
       "      <td>433</td>\n",
       "      <td>hashtag_tweets</td>\n",
       "      <td>{'tweet': {'hashtags': ['freepress', 'TrumpLeg...</td>\n",
       "      <td>2016-01-28 04:52:09</td>\n",
       "      <td>tweets</td>\n",
       "    </tr>\n",
       "    <tr>\n",
       "      <th>2</th>\n",
       "      <td>232</td>\n",
       "      <td>hashtag_tweets</td>\n",
       "      <td>{'tweet': {'hashtags': ['bibleverse'], 'tweet_...</td>\n",
       "      <td>2017-12-25 04:39:20</td>\n",
       "      <td>tweets</td>\n",
       "    </tr>\n",
       "    <tr>\n",
       "      <th>3</th>\n",
       "      <td>376</td>\n",
       "      <td>hashtag_tweets</td>\n",
       "      <td>{'tweet': {'hashtags': [], 'tweet_id': '0x1cd5...</td>\n",
       "      <td>2016-01-24 23:53:05</td>\n",
       "      <td>tweets</td>\n",
       "    </tr>\n",
       "    <tr>\n",
       "      <th>4</th>\n",
       "      <td>989</td>\n",
       "      <td>hashtag_tweets</td>\n",
       "      <td>{'tweet': {'hashtags': [], 'tweet_id': '0x2de2...</td>\n",
       "      <td>2016-01-08 17:18:59</td>\n",
       "      <td>tweets</td>\n",
       "    </tr>\n",
       "    <tr>\n",
       "      <th>...</th>\n",
       "      <td>...</td>\n",
       "      <td>...</td>\n",
       "      <td>...</td>\n",
       "      <td>...</td>\n",
       "      <td>...</td>\n",
       "    </tr>\n",
       "    <tr>\n",
       "      <th>1867530</th>\n",
       "      <td>827</td>\n",
       "      <td>hashtag_tweets</td>\n",
       "      <td>{'tweet': {'hashtags': ['mixedfeeling', 'butim...</td>\n",
       "      <td>2015-05-12 12:51:52</td>\n",
       "      <td>tweets</td>\n",
       "    </tr>\n",
       "    <tr>\n",
       "      <th>1867531</th>\n",
       "      <td>368</td>\n",
       "      <td>hashtag_tweets</td>\n",
       "      <td>{'tweet': {'hashtags': [], 'tweet_id': '0x29d0...</td>\n",
       "      <td>2017-10-02 17:54:04</td>\n",
       "      <td>tweets</td>\n",
       "    </tr>\n",
       "    <tr>\n",
       "      <th>1867532</th>\n",
       "      <td>498</td>\n",
       "      <td>hashtag_tweets</td>\n",
       "      <td>{'tweet': {'hashtags': [], 'tweet_id': '0x2a6a...</td>\n",
       "      <td>2016-10-10 11:04:32</td>\n",
       "      <td>tweets</td>\n",
       "    </tr>\n",
       "    <tr>\n",
       "      <th>1867533</th>\n",
       "      <td>840</td>\n",
       "      <td>hashtag_tweets</td>\n",
       "      <td>{'tweet': {'hashtags': [], 'tweet_id': '0x24fa...</td>\n",
       "      <td>2016-09-02 14:25:06</td>\n",
       "      <td>tweets</td>\n",
       "    </tr>\n",
       "    <tr>\n",
       "      <th>1867534</th>\n",
       "      <td>360</td>\n",
       "      <td>hashtag_tweets</td>\n",
       "      <td>{'tweet': {'hashtags': ['Sundayvibes'], 'tweet...</td>\n",
       "      <td>2016-11-16 01:40:07</td>\n",
       "      <td>tweets</td>\n",
       "    </tr>\n",
       "  </tbody>\n",
       "</table>\n",
       "<p>1867535 rows × 5 columns</p>\n",
       "</div>"
      ],
      "text/plain": [
       "         _score          _index  \\\n",
       "0           391  hashtag_tweets   \n",
       "1           433  hashtag_tweets   \n",
       "2           232  hashtag_tweets   \n",
       "3           376  hashtag_tweets   \n",
       "4           989  hashtag_tweets   \n",
       "...         ...             ...   \n",
       "1867530     827  hashtag_tweets   \n",
       "1867531     368  hashtag_tweets   \n",
       "1867532     498  hashtag_tweets   \n",
       "1867533     840  hashtag_tweets   \n",
       "1867534     360  hashtag_tweets   \n",
       "\n",
       "                                                   _source  \\\n",
       "0        {'tweet': {'hashtags': ['Snapchat'], 'tweet_id...   \n",
       "1        {'tweet': {'hashtags': ['freepress', 'TrumpLeg...   \n",
       "2        {'tweet': {'hashtags': ['bibleverse'], 'tweet_...   \n",
       "3        {'tweet': {'hashtags': [], 'tweet_id': '0x1cd5...   \n",
       "4        {'tweet': {'hashtags': [], 'tweet_id': '0x2de2...   \n",
       "...                                                    ...   \n",
       "1867530  {'tweet': {'hashtags': ['mixedfeeling', 'butim...   \n",
       "1867531  {'tweet': {'hashtags': [], 'tweet_id': '0x29d0...   \n",
       "1867532  {'tweet': {'hashtags': [], 'tweet_id': '0x2a6a...   \n",
       "1867533  {'tweet': {'hashtags': [], 'tweet_id': '0x24fa...   \n",
       "1867534  {'tweet': {'hashtags': ['Sundayvibes'], 'tweet...   \n",
       "\n",
       "                  _crawldate   _type  \n",
       "0        2015-05-23 11:42:47  tweets  \n",
       "1        2016-01-28 04:52:09  tweets  \n",
       "2        2017-12-25 04:39:20  tweets  \n",
       "3        2016-01-24 23:53:05  tweets  \n",
       "4        2016-01-08 17:18:59  tweets  \n",
       "...                      ...     ...  \n",
       "1867530  2015-05-12 12:51:52  tweets  \n",
       "1867531  2017-10-02 17:54:04  tweets  \n",
       "1867532  2016-10-10 11:04:32  tweets  \n",
       "1867533  2016-09-02 14:25:06  tweets  \n",
       "1867534  2016-11-16 01:40:07  tweets  \n",
       "\n",
       "[1867535 rows x 5 columns]"
      ]
     },
     "execution_count": 3,
     "metadata": {},
     "output_type": "execute_result"
    }
   ],
   "source": [
    "tweets_DM = pd.read_json('dm-2024-isa-5810-lab-2-homework/tweets_DM.json', lines=True)\n",
    "tweets_DM"
   ]
  },
  {
   "cell_type": "code",
   "execution_count": 4,
   "metadata": {},
   "outputs": [
    {
     "data": {
      "text/html": [
       "<div>\n",
       "<style scoped>\n",
       "    .dataframe tbody tr th:only-of-type {\n",
       "        vertical-align: middle;\n",
       "    }\n",
       "\n",
       "    .dataframe tbody tr th {\n",
       "        vertical-align: top;\n",
       "    }\n",
       "\n",
       "    .dataframe thead th {\n",
       "        text-align: right;\n",
       "    }\n",
       "</style>\n",
       "<table border=\"1\" class=\"dataframe\">\n",
       "  <thead>\n",
       "    <tr style=\"text-align: right;\">\n",
       "      <th></th>\n",
       "      <th>tweet_id</th>\n",
       "      <th>identification</th>\n",
       "    </tr>\n",
       "  </thead>\n",
       "  <tbody>\n",
       "    <tr>\n",
       "      <th>0</th>\n",
       "      <td>0x28cc61</td>\n",
       "      <td>test</td>\n",
       "    </tr>\n",
       "    <tr>\n",
       "      <th>1</th>\n",
       "      <td>0x29e452</td>\n",
       "      <td>train</td>\n",
       "    </tr>\n",
       "    <tr>\n",
       "      <th>2</th>\n",
       "      <td>0x2b3819</td>\n",
       "      <td>train</td>\n",
       "    </tr>\n",
       "    <tr>\n",
       "      <th>3</th>\n",
       "      <td>0x2db41f</td>\n",
       "      <td>test</td>\n",
       "    </tr>\n",
       "    <tr>\n",
       "      <th>4</th>\n",
       "      <td>0x2a2acc</td>\n",
       "      <td>train</td>\n",
       "    </tr>\n",
       "    <tr>\n",
       "      <th>...</th>\n",
       "      <td>...</td>\n",
       "      <td>...</td>\n",
       "    </tr>\n",
       "    <tr>\n",
       "      <th>1867530</th>\n",
       "      <td>0x227e25</td>\n",
       "      <td>train</td>\n",
       "    </tr>\n",
       "    <tr>\n",
       "      <th>1867531</th>\n",
       "      <td>0x293813</td>\n",
       "      <td>train</td>\n",
       "    </tr>\n",
       "    <tr>\n",
       "      <th>1867532</th>\n",
       "      <td>0x1e1a7e</td>\n",
       "      <td>train</td>\n",
       "    </tr>\n",
       "    <tr>\n",
       "      <th>1867533</th>\n",
       "      <td>0x2156a5</td>\n",
       "      <td>train</td>\n",
       "    </tr>\n",
       "    <tr>\n",
       "      <th>1867534</th>\n",
       "      <td>0x2bb9d2</td>\n",
       "      <td>train</td>\n",
       "    </tr>\n",
       "  </tbody>\n",
       "</table>\n",
       "<p>1867535 rows × 2 columns</p>\n",
       "</div>"
      ],
      "text/plain": [
       "         tweet_id identification\n",
       "0        0x28cc61           test\n",
       "1        0x29e452          train\n",
       "2        0x2b3819          train\n",
       "3        0x2db41f           test\n",
       "4        0x2a2acc          train\n",
       "...           ...            ...\n",
       "1867530  0x227e25          train\n",
       "1867531  0x293813          train\n",
       "1867532  0x1e1a7e          train\n",
       "1867533  0x2156a5          train\n",
       "1867534  0x2bb9d2          train\n",
       "\n",
       "[1867535 rows x 2 columns]"
      ]
     },
     "execution_count": 4,
     "metadata": {},
     "output_type": "execute_result"
    }
   ],
   "source": [
    "data_identification = pd.read_csv('dm-2024-isa-5810-lab-2-homework/data_identification.csv')\n",
    "data_identification"
   ]
  },
  {
   "cell_type": "code",
   "execution_count": 5,
   "metadata": {},
   "outputs": [
    {
     "data": {
      "text/html": [
       "<div>\n",
       "<style scoped>\n",
       "    .dataframe tbody tr th:only-of-type {\n",
       "        vertical-align: middle;\n",
       "    }\n",
       "\n",
       "    .dataframe tbody tr th {\n",
       "        vertical-align: top;\n",
       "    }\n",
       "\n",
       "    .dataframe thead th {\n",
       "        text-align: right;\n",
       "    }\n",
       "</style>\n",
       "<table border=\"1\" class=\"dataframe\">\n",
       "  <thead>\n",
       "    <tr style=\"text-align: right;\">\n",
       "      <th></th>\n",
       "      <th>tweet_id</th>\n",
       "      <th>emotion</th>\n",
       "    </tr>\n",
       "  </thead>\n",
       "  <tbody>\n",
       "    <tr>\n",
       "      <th>0</th>\n",
       "      <td>0x3140b1</td>\n",
       "      <td>sadness</td>\n",
       "    </tr>\n",
       "    <tr>\n",
       "      <th>1</th>\n",
       "      <td>0x368b73</td>\n",
       "      <td>disgust</td>\n",
       "    </tr>\n",
       "    <tr>\n",
       "      <th>2</th>\n",
       "      <td>0x296183</td>\n",
       "      <td>anticipation</td>\n",
       "    </tr>\n",
       "    <tr>\n",
       "      <th>3</th>\n",
       "      <td>0x2bd6e1</td>\n",
       "      <td>joy</td>\n",
       "    </tr>\n",
       "    <tr>\n",
       "      <th>4</th>\n",
       "      <td>0x2ee1dd</td>\n",
       "      <td>anticipation</td>\n",
       "    </tr>\n",
       "    <tr>\n",
       "      <th>...</th>\n",
       "      <td>...</td>\n",
       "      <td>...</td>\n",
       "    </tr>\n",
       "    <tr>\n",
       "      <th>1455558</th>\n",
       "      <td>0x38dba0</td>\n",
       "      <td>joy</td>\n",
       "    </tr>\n",
       "    <tr>\n",
       "      <th>1455559</th>\n",
       "      <td>0x300ea2</td>\n",
       "      <td>joy</td>\n",
       "    </tr>\n",
       "    <tr>\n",
       "      <th>1455560</th>\n",
       "      <td>0x360b99</td>\n",
       "      <td>fear</td>\n",
       "    </tr>\n",
       "    <tr>\n",
       "      <th>1455561</th>\n",
       "      <td>0x22eecf</td>\n",
       "      <td>joy</td>\n",
       "    </tr>\n",
       "    <tr>\n",
       "      <th>1455562</th>\n",
       "      <td>0x2fb282</td>\n",
       "      <td>anticipation</td>\n",
       "    </tr>\n",
       "  </tbody>\n",
       "</table>\n",
       "<p>1455563 rows × 2 columns</p>\n",
       "</div>"
      ],
      "text/plain": [
       "         tweet_id       emotion\n",
       "0        0x3140b1       sadness\n",
       "1        0x368b73       disgust\n",
       "2        0x296183  anticipation\n",
       "3        0x2bd6e1           joy\n",
       "4        0x2ee1dd  anticipation\n",
       "...           ...           ...\n",
       "1455558  0x38dba0           joy\n",
       "1455559  0x300ea2           joy\n",
       "1455560  0x360b99          fear\n",
       "1455561  0x22eecf           joy\n",
       "1455562  0x2fb282  anticipation\n",
       "\n",
       "[1455563 rows x 2 columns]"
      ]
     },
     "execution_count": 5,
     "metadata": {},
     "output_type": "execute_result"
    }
   ],
   "source": [
    "emotion = pd.read_csv('dm-2024-isa-5810-lab-2-homework/emotion.csv')\n",
    "emotion"
   ]
  },
  {
   "cell_type": "code",
   "execution_count": 6,
   "metadata": {},
   "outputs": [
    {
     "data": {
      "text/html": [
       "<div>\n",
       "<style scoped>\n",
       "    .dataframe tbody tr th:only-of-type {\n",
       "        vertical-align: middle;\n",
       "    }\n",
       "\n",
       "    .dataframe tbody tr th {\n",
       "        vertical-align: top;\n",
       "    }\n",
       "\n",
       "    .dataframe thead th {\n",
       "        text-align: right;\n",
       "    }\n",
       "</style>\n",
       "<table border=\"1\" class=\"dataframe\">\n",
       "  <thead>\n",
       "    <tr style=\"text-align: right;\">\n",
       "      <th></th>\n",
       "      <th>id</th>\n",
       "      <th>emotion</th>\n",
       "    </tr>\n",
       "  </thead>\n",
       "  <tbody>\n",
       "    <tr>\n",
       "      <th>0</th>\n",
       "      <td>0x2c7743</td>\n",
       "      <td>surprise</td>\n",
       "    </tr>\n",
       "    <tr>\n",
       "      <th>1</th>\n",
       "      <td>0x2c1eed</td>\n",
       "      <td>surprise</td>\n",
       "    </tr>\n",
       "    <tr>\n",
       "      <th>2</th>\n",
       "      <td>0x2826ea</td>\n",
       "      <td>surprise</td>\n",
       "    </tr>\n",
       "    <tr>\n",
       "      <th>3</th>\n",
       "      <td>0x356d9a</td>\n",
       "      <td>surprise</td>\n",
       "    </tr>\n",
       "    <tr>\n",
       "      <th>4</th>\n",
       "      <td>0x20fd95</td>\n",
       "      <td>surprise</td>\n",
       "    </tr>\n",
       "    <tr>\n",
       "      <th>...</th>\n",
       "      <td>...</td>\n",
       "      <td>...</td>\n",
       "    </tr>\n",
       "    <tr>\n",
       "      <th>411967</th>\n",
       "      <td>0x351857</td>\n",
       "      <td>surprise</td>\n",
       "    </tr>\n",
       "    <tr>\n",
       "      <th>411968</th>\n",
       "      <td>0x2c028e</td>\n",
       "      <td>surprise</td>\n",
       "    </tr>\n",
       "    <tr>\n",
       "      <th>411969</th>\n",
       "      <td>0x1f2430</td>\n",
       "      <td>surprise</td>\n",
       "    </tr>\n",
       "    <tr>\n",
       "      <th>411970</th>\n",
       "      <td>0x2be24e</td>\n",
       "      <td>surprise</td>\n",
       "    </tr>\n",
       "    <tr>\n",
       "      <th>411971</th>\n",
       "      <td>0x35802a</td>\n",
       "      <td>surprise</td>\n",
       "    </tr>\n",
       "  </tbody>\n",
       "</table>\n",
       "<p>411972 rows × 2 columns</p>\n",
       "</div>"
      ],
      "text/plain": [
       "              id   emotion\n",
       "0       0x2c7743  surprise\n",
       "1       0x2c1eed  surprise\n",
       "2       0x2826ea  surprise\n",
       "3       0x356d9a  surprise\n",
       "4       0x20fd95  surprise\n",
       "...          ...       ...\n",
       "411967  0x351857  surprise\n",
       "411968  0x2c028e  surprise\n",
       "411969  0x1f2430  surprise\n",
       "411970  0x2be24e  surprise\n",
       "411971  0x35802a  surprise\n",
       "\n",
       "[411972 rows x 2 columns]"
      ]
     },
     "execution_count": 6,
     "metadata": {},
     "output_type": "execute_result"
    }
   ],
   "source": [
    "sampleSubmission = pd.read_csv('dm-2024-isa-5810-lab-2-homework/sampleSubmission.csv')\n",
    "sampleSubmission"
   ]
  },
  {
   "cell_type": "markdown",
   "metadata": {},
   "source": [
    "# Check Data"
   ]
  },
  {
   "cell_type": "code",
   "execution_count": 7,
   "metadata": {},
   "outputs": [
    {
     "data": {
      "text/plain": [
       "1"
      ]
     },
     "execution_count": 7,
     "metadata": {},
     "output_type": "execute_result"
    }
   ],
   "source": [
    "tweets_DM['_index'].nunique()"
   ]
  },
  {
   "cell_type": "code",
   "execution_count": 8,
   "metadata": {},
   "outputs": [
    {
     "data": {
      "text/plain": [
       "1"
      ]
     },
     "execution_count": 8,
     "metadata": {},
     "output_type": "execute_result"
    }
   ],
   "source": [
    "tweets_DM['_type'].nunique()"
   ]
  },
  {
   "cell_type": "code",
   "execution_count": 9,
   "metadata": {},
   "outputs": [
    {
     "data": {
      "text/plain": [
       "{'tweet': {'hashtags': ['Snapchat'],\n",
       "  'tweet_id': '0x376b20',\n",
       "  'text': 'People who post \"add me on #Snapchat\" must be dehydrated. Cuz man.... that\\'s <LH>'}}"
      ]
     },
     "execution_count": 9,
     "metadata": {},
     "output_type": "execute_result"
    }
   ],
   "source": [
    "first_row = tweets_DM.iloc[0]\n",
    "first_row['_source']"
   ]
  },
  {
   "cell_type": "code",
   "execution_count": 10,
   "metadata": {},
   "outputs": [
    {
     "data": {
      "text/plain": [
       "{'hashtags': ['freepress', 'TrumpLegacy', 'CNN'],\n",
       " 'tweet_id': '0x2d5350',\n",
       " 'text': '@brianklaas As we see, Trump is dangerous to #freepress around the world. What a <LH> <LH> #TrumpLegacy.  #CNN'}"
      ]
     },
     "execution_count": 10,
     "metadata": {},
     "output_type": "execute_result"
    }
   ],
   "source": [
    "second_row = tweets_DM.iloc[1]\n",
    "second_row['_source']['tweet']"
   ]
  },
  {
   "cell_type": "markdown",
   "metadata": {},
   "source": [
    "# Preprocessing"
   ]
  },
  {
   "cell_type": "code",
   "execution_count": 11,
   "metadata": {},
   "outputs": [
    {
     "name": "stdout",
     "output_type": "stream",
     "text": [
      "finish get id\n",
      "finish get hashtags\n",
      "finish get text\n"
     ]
    },
    {
     "data": {
      "text/html": [
       "<div>\n",
       "<style scoped>\n",
       "    .dataframe tbody tr th:only-of-type {\n",
       "        vertical-align: middle;\n",
       "    }\n",
       "\n",
       "    .dataframe tbody tr th {\n",
       "        vertical-align: top;\n",
       "    }\n",
       "\n",
       "    .dataframe thead th {\n",
       "        text-align: right;\n",
       "    }\n",
       "</style>\n",
       "<table border=\"1\" class=\"dataframe\">\n",
       "  <thead>\n",
       "    <tr style=\"text-align: right;\">\n",
       "      <th></th>\n",
       "      <th>_score</th>\n",
       "      <th>_crawldate</th>\n",
       "      <th>tweet_id</th>\n",
       "      <th>hashtags</th>\n",
       "      <th>text</th>\n",
       "    </tr>\n",
       "  </thead>\n",
       "  <tbody>\n",
       "    <tr>\n",
       "      <th>0</th>\n",
       "      <td>391</td>\n",
       "      <td>2015-05-23 11:42:47</td>\n",
       "      <td>0x376b20</td>\n",
       "      <td>[Snapchat]</td>\n",
       "      <td>People who post \"add me on #Snapchat\" must be ...</td>\n",
       "    </tr>\n",
       "    <tr>\n",
       "      <th>1</th>\n",
       "      <td>433</td>\n",
       "      <td>2016-01-28 04:52:09</td>\n",
       "      <td>0x2d5350</td>\n",
       "      <td>[freepress, TrumpLegacy, CNN]</td>\n",
       "      <td>@brianklaas As we see, Trump is dangerous to #...</td>\n",
       "    </tr>\n",
       "    <tr>\n",
       "      <th>2</th>\n",
       "      <td>232</td>\n",
       "      <td>2017-12-25 04:39:20</td>\n",
       "      <td>0x28b412</td>\n",
       "      <td>[bibleverse]</td>\n",
       "      <td>Confident of your obedience, I write to you, k...</td>\n",
       "    </tr>\n",
       "    <tr>\n",
       "      <th>3</th>\n",
       "      <td>376</td>\n",
       "      <td>2016-01-24 23:53:05</td>\n",
       "      <td>0x1cd5b0</td>\n",
       "      <td>[]</td>\n",
       "      <td>Now ISSA is stalking Tasha 😂😂😂 &lt;LH&gt;</td>\n",
       "    </tr>\n",
       "    <tr>\n",
       "      <th>4</th>\n",
       "      <td>989</td>\n",
       "      <td>2016-01-08 17:18:59</td>\n",
       "      <td>0x2de201</td>\n",
       "      <td>[]</td>\n",
       "      <td>\"Trust is not the same as faith. A friend is s...</td>\n",
       "    </tr>\n",
       "    <tr>\n",
       "      <th>...</th>\n",
       "      <td>...</td>\n",
       "      <td>...</td>\n",
       "      <td>...</td>\n",
       "      <td>...</td>\n",
       "      <td>...</td>\n",
       "    </tr>\n",
       "    <tr>\n",
       "      <th>1867530</th>\n",
       "      <td>827</td>\n",
       "      <td>2015-05-12 12:51:52</td>\n",
       "      <td>0x316b80</td>\n",
       "      <td>[mixedfeeling, butimTHATperson]</td>\n",
       "      <td>When you buy the last 2 tickets remaining for ...</td>\n",
       "    </tr>\n",
       "    <tr>\n",
       "      <th>1867531</th>\n",
       "      <td>368</td>\n",
       "      <td>2017-10-02 17:54:04</td>\n",
       "      <td>0x29d0cb</td>\n",
       "      <td>[]</td>\n",
       "      <td>I swear all this hard work gone pay off one da...</td>\n",
       "    </tr>\n",
       "    <tr>\n",
       "      <th>1867532</th>\n",
       "      <td>498</td>\n",
       "      <td>2016-10-10 11:04:32</td>\n",
       "      <td>0x2a6a4f</td>\n",
       "      <td>[]</td>\n",
       "      <td>@Parcel2Go no card left when I wasn't in so I ...</td>\n",
       "    </tr>\n",
       "    <tr>\n",
       "      <th>1867533</th>\n",
       "      <td>840</td>\n",
       "      <td>2016-09-02 14:25:06</td>\n",
       "      <td>0x24faed</td>\n",
       "      <td>[]</td>\n",
       "      <td>Ah, corporate life, where you can date &lt;LH&gt; us...</td>\n",
       "    </tr>\n",
       "    <tr>\n",
       "      <th>1867534</th>\n",
       "      <td>360</td>\n",
       "      <td>2016-11-16 01:40:07</td>\n",
       "      <td>0x34be8c</td>\n",
       "      <td>[Sundayvibes]</td>\n",
       "      <td>Blessed to be living #Sundayvibes &lt;LH&gt;</td>\n",
       "    </tr>\n",
       "  </tbody>\n",
       "</table>\n",
       "<p>1867535 rows × 5 columns</p>\n",
       "</div>"
      ],
      "text/plain": [
       "         _score           _crawldate  tweet_id  \\\n",
       "0           391  2015-05-23 11:42:47  0x376b20   \n",
       "1           433  2016-01-28 04:52:09  0x2d5350   \n",
       "2           232  2017-12-25 04:39:20  0x28b412   \n",
       "3           376  2016-01-24 23:53:05  0x1cd5b0   \n",
       "4           989  2016-01-08 17:18:59  0x2de201   \n",
       "...         ...                  ...       ...   \n",
       "1867530     827  2015-05-12 12:51:52  0x316b80   \n",
       "1867531     368  2017-10-02 17:54:04  0x29d0cb   \n",
       "1867532     498  2016-10-10 11:04:32  0x2a6a4f   \n",
       "1867533     840  2016-09-02 14:25:06  0x24faed   \n",
       "1867534     360  2016-11-16 01:40:07  0x34be8c   \n",
       "\n",
       "                                hashtags  \\\n",
       "0                             [Snapchat]   \n",
       "1          [freepress, TrumpLegacy, CNN]   \n",
       "2                           [bibleverse]   \n",
       "3                                     []   \n",
       "4                                     []   \n",
       "...                                  ...   \n",
       "1867530  [mixedfeeling, butimTHATperson]   \n",
       "1867531                               []   \n",
       "1867532                               []   \n",
       "1867533                               []   \n",
       "1867534                    [Sundayvibes]   \n",
       "\n",
       "                                                      text  \n",
       "0        People who post \"add me on #Snapchat\" must be ...  \n",
       "1        @brianklaas As we see, Trump is dangerous to #...  \n",
       "2        Confident of your obedience, I write to you, k...  \n",
       "3                      Now ISSA is stalking Tasha 😂😂😂 <LH>  \n",
       "4        \"Trust is not the same as faith. A friend is s...  \n",
       "...                                                    ...  \n",
       "1867530  When you buy the last 2 tickets remaining for ...  \n",
       "1867531  I swear all this hard work gone pay off one da...  \n",
       "1867532  @Parcel2Go no card left when I wasn't in so I ...  \n",
       "1867533  Ah, corporate life, where you can date <LH> us...  \n",
       "1867534             Blessed to be living #Sundayvibes <LH>  \n",
       "\n",
       "[1867535 rows x 5 columns]"
      ]
     },
     "execution_count": 11,
     "metadata": {},
     "output_type": "execute_result"
    }
   ],
   "source": [
    "processed_tweets_DM = tweets_DM.copy()\n",
    "\n",
    "def get_id(row):\n",
    "    return row['_source'].get('tweet').get('tweet_id')\n",
    "processed_tweets_DM['tweet_id'] = processed_tweets_DM.apply(get_id, axis=1)\n",
    "print(\"finish get id\")\n",
    "\n",
    "def get_hashtags(row):\n",
    "    return row['_source'].get('tweet').get('hashtags')\n",
    "processed_tweets_DM['hashtags'] = processed_tweets_DM.apply(get_hashtags, axis=1)\n",
    "print(\"finish get hashtags\")\n",
    "\n",
    "def get_text(row):\n",
    "    return row['_source'].get('tweet').get('text')\n",
    "processed_tweets_DM['text'] = processed_tweets_DM.apply(get_text, axis=1)\n",
    "print(\"finish get text\")\n",
    "\n",
    "processed_tweets_DM.drop(['_index', '_source', '_type'], axis=1, inplace=True)\n",
    "processed_tweets_DM"
   ]
  },
  {
   "cell_type": "code",
   "execution_count": 12,
   "metadata": {},
   "outputs": [
    {
     "data": {
      "text/plain": [
       "0"
      ]
     },
     "execution_count": 12,
     "metadata": {},
     "output_type": "execute_result"
    }
   ],
   "source": [
    "processed_tweets_DM = pd.merge(processed_tweets_DM, data_identification, on='tweet_id')\n",
    "processed_tweets_DM['identification'].isna().sum()"
   ]
  },
  {
   "cell_type": "code",
   "execution_count": 13,
   "metadata": {},
   "outputs": [],
   "source": [
    "train_df = processed_tweets_DM[processed_tweets_DM['identification']==\"train\"].drop(['identification'], axis=1)\n",
    "test_df = processed_tweets_DM[processed_tweets_DM['identification']==\"test\"].drop(['identification'], axis=1)\n",
    "train_df = pd.merge(train_df, emotion, on='tweet_id')\n",
    "\n",
    "unique_categories = train_df['emotion'].unique()\n",
    "category_to_number = {category: number for number, category in enumerate(unique_categories, start=1)}\n",
    "train_df['numerical_emotion'] = train_df['emotion'].map(category_to_number)"
   ]
  },
  {
   "cell_type": "code",
   "execution_count": 14,
   "metadata": {},
   "outputs": [
    {
     "data": {
      "text/html": [
       "<div>\n",
       "<style scoped>\n",
       "    .dataframe tbody tr th:only-of-type {\n",
       "        vertical-align: middle;\n",
       "    }\n",
       "\n",
       "    .dataframe tbody tr th {\n",
       "        vertical-align: top;\n",
       "    }\n",
       "\n",
       "    .dataframe thead th {\n",
       "        text-align: right;\n",
       "    }\n",
       "</style>\n",
       "<table border=\"1\" class=\"dataframe\">\n",
       "  <thead>\n",
       "    <tr style=\"text-align: right;\">\n",
       "      <th></th>\n",
       "      <th>_score</th>\n",
       "      <th>_crawldate</th>\n",
       "      <th>tweet_id</th>\n",
       "      <th>hashtags</th>\n",
       "      <th>text</th>\n",
       "      <th>emotion</th>\n",
       "      <th>numerical_emotion</th>\n",
       "    </tr>\n",
       "  </thead>\n",
       "  <tbody>\n",
       "    <tr>\n",
       "      <th>0</th>\n",
       "      <td>391</td>\n",
       "      <td>2015-05-23 11:42:47</td>\n",
       "      <td>0x376b20</td>\n",
       "      <td>[Snapchat]</td>\n",
       "      <td>People who post \"add me on #Snapchat\" must be ...</td>\n",
       "      <td>anticipation</td>\n",
       "      <td>1</td>\n",
       "    </tr>\n",
       "    <tr>\n",
       "      <th>1</th>\n",
       "      <td>433</td>\n",
       "      <td>2016-01-28 04:52:09</td>\n",
       "      <td>0x2d5350</td>\n",
       "      <td>[freepress, TrumpLegacy, CNN]</td>\n",
       "      <td>@brianklaas As we see, Trump is dangerous to #...</td>\n",
       "      <td>sadness</td>\n",
       "      <td>2</td>\n",
       "    </tr>\n",
       "    <tr>\n",
       "      <th>2</th>\n",
       "      <td>376</td>\n",
       "      <td>2016-01-24 23:53:05</td>\n",
       "      <td>0x1cd5b0</td>\n",
       "      <td>[]</td>\n",
       "      <td>Now ISSA is stalking Tasha 😂😂😂 &lt;LH&gt;</td>\n",
       "      <td>fear</td>\n",
       "      <td>3</td>\n",
       "    </tr>\n",
       "    <tr>\n",
       "      <th>3</th>\n",
       "      <td>120</td>\n",
       "      <td>2015-06-11 04:44:05</td>\n",
       "      <td>0x1d755c</td>\n",
       "      <td>[authentic, LaughOutLoud]</td>\n",
       "      <td>@RISKshow @TheKevinAllison Thx for the BEST TI...</td>\n",
       "      <td>joy</td>\n",
       "      <td>4</td>\n",
       "    </tr>\n",
       "    <tr>\n",
       "      <th>4</th>\n",
       "      <td>1021</td>\n",
       "      <td>2015-08-18 02:30:07</td>\n",
       "      <td>0x2c91a8</td>\n",
       "      <td>[]</td>\n",
       "      <td>Still waiting on those supplies Liscus. &lt;LH&gt;</td>\n",
       "      <td>anticipation</td>\n",
       "      <td>1</td>\n",
       "    </tr>\n",
       "    <tr>\n",
       "      <th>...</th>\n",
       "      <td>...</td>\n",
       "      <td>...</td>\n",
       "      <td>...</td>\n",
       "      <td>...</td>\n",
       "      <td>...</td>\n",
       "      <td>...</td>\n",
       "      <td>...</td>\n",
       "    </tr>\n",
       "    <tr>\n",
       "      <th>1455558</th>\n",
       "      <td>94</td>\n",
       "      <td>2016-12-26 02:44:07</td>\n",
       "      <td>0x321566</td>\n",
       "      <td>[NoWonder, Happy]</td>\n",
       "      <td>I'm SO HAPPY!!! #NoWonder the name of this sho...</td>\n",
       "      <td>joy</td>\n",
       "      <td>4</td>\n",
       "    </tr>\n",
       "    <tr>\n",
       "      <th>1455559</th>\n",
       "      <td>627</td>\n",
       "      <td>2015-04-01 08:14:56</td>\n",
       "      <td>0x38959e</td>\n",
       "      <td>[]</td>\n",
       "      <td>In every circumtance I'd like to be thankful t...</td>\n",
       "      <td>joy</td>\n",
       "      <td>4</td>\n",
       "    </tr>\n",
       "    <tr>\n",
       "      <th>1455560</th>\n",
       "      <td>274</td>\n",
       "      <td>2016-11-17 23:46:22</td>\n",
       "      <td>0x2cbca6</td>\n",
       "      <td>[blessyou]</td>\n",
       "      <td>there's currently two girls walking around the...</td>\n",
       "      <td>joy</td>\n",
       "      <td>4</td>\n",
       "    </tr>\n",
       "    <tr>\n",
       "      <th>1455561</th>\n",
       "      <td>840</td>\n",
       "      <td>2016-09-02 14:25:06</td>\n",
       "      <td>0x24faed</td>\n",
       "      <td>[]</td>\n",
       "      <td>Ah, corporate life, where you can date &lt;LH&gt; us...</td>\n",
       "      <td>joy</td>\n",
       "      <td>4</td>\n",
       "    </tr>\n",
       "    <tr>\n",
       "      <th>1455562</th>\n",
       "      <td>360</td>\n",
       "      <td>2016-11-16 01:40:07</td>\n",
       "      <td>0x34be8c</td>\n",
       "      <td>[Sundayvibes]</td>\n",
       "      <td>Blessed to be living #Sundayvibes &lt;LH&gt;</td>\n",
       "      <td>joy</td>\n",
       "      <td>4</td>\n",
       "    </tr>\n",
       "  </tbody>\n",
       "</table>\n",
       "<p>1455563 rows × 7 columns</p>\n",
       "</div>"
      ],
      "text/plain": [
       "         _score           _crawldate  tweet_id                       hashtags  \\\n",
       "0           391  2015-05-23 11:42:47  0x376b20                     [Snapchat]   \n",
       "1           433  2016-01-28 04:52:09  0x2d5350  [freepress, TrumpLegacy, CNN]   \n",
       "2           376  2016-01-24 23:53:05  0x1cd5b0                             []   \n",
       "3           120  2015-06-11 04:44:05  0x1d755c      [authentic, LaughOutLoud]   \n",
       "4          1021  2015-08-18 02:30:07  0x2c91a8                             []   \n",
       "...         ...                  ...       ...                            ...   \n",
       "1455558      94  2016-12-26 02:44:07  0x321566              [NoWonder, Happy]   \n",
       "1455559     627  2015-04-01 08:14:56  0x38959e                             []   \n",
       "1455560     274  2016-11-17 23:46:22  0x2cbca6                     [blessyou]   \n",
       "1455561     840  2016-09-02 14:25:06  0x24faed                             []   \n",
       "1455562     360  2016-11-16 01:40:07  0x34be8c                  [Sundayvibes]   \n",
       "\n",
       "                                                      text       emotion  \\\n",
       "0        People who post \"add me on #Snapchat\" must be ...  anticipation   \n",
       "1        @brianklaas As we see, Trump is dangerous to #...       sadness   \n",
       "2                      Now ISSA is stalking Tasha 😂😂😂 <LH>          fear   \n",
       "3        @RISKshow @TheKevinAllison Thx for the BEST TI...           joy   \n",
       "4             Still waiting on those supplies Liscus. <LH>  anticipation   \n",
       "...                                                    ...           ...   \n",
       "1455558  I'm SO HAPPY!!! #NoWonder the name of this sho...           joy   \n",
       "1455559  In every circumtance I'd like to be thankful t...           joy   \n",
       "1455560  there's currently two girls walking around the...           joy   \n",
       "1455561  Ah, corporate life, where you can date <LH> us...           joy   \n",
       "1455562             Blessed to be living #Sundayvibes <LH>           joy   \n",
       "\n",
       "         numerical_emotion  \n",
       "0                        1  \n",
       "1                        2  \n",
       "2                        3  \n",
       "3                        4  \n",
       "4                        1  \n",
       "...                    ...  \n",
       "1455558                  4  \n",
       "1455559                  4  \n",
       "1455560                  4  \n",
       "1455561                  4  \n",
       "1455562                  4  \n",
       "\n",
       "[1455563 rows x 7 columns]"
      ]
     },
     "execution_count": 14,
     "metadata": {},
     "output_type": "execute_result"
    }
   ],
   "source": [
    "train_df"
   ]
  },
  {
   "cell_type": "code",
   "execution_count": 15,
   "metadata": {},
   "outputs": [
    {
     "data": {
      "text/html": [
       "<div>\n",
       "<style scoped>\n",
       "    .dataframe tbody tr th:only-of-type {\n",
       "        vertical-align: middle;\n",
       "    }\n",
       "\n",
       "    .dataframe tbody tr th {\n",
       "        vertical-align: top;\n",
       "    }\n",
       "\n",
       "    .dataframe thead th {\n",
       "        text-align: right;\n",
       "    }\n",
       "</style>\n",
       "<table border=\"1\" class=\"dataframe\">\n",
       "  <thead>\n",
       "    <tr style=\"text-align: right;\">\n",
       "      <th></th>\n",
       "      <th>_score</th>\n",
       "      <th>_crawldate</th>\n",
       "      <th>tweet_id</th>\n",
       "      <th>hashtags</th>\n",
       "      <th>text</th>\n",
       "    </tr>\n",
       "  </thead>\n",
       "  <tbody>\n",
       "    <tr>\n",
       "      <th>2</th>\n",
       "      <td>232</td>\n",
       "      <td>2017-12-25 04:39:20</td>\n",
       "      <td>0x28b412</td>\n",
       "      <td>[bibleverse]</td>\n",
       "      <td>Confident of your obedience, I write to you, k...</td>\n",
       "    </tr>\n",
       "    <tr>\n",
       "      <th>4</th>\n",
       "      <td>989</td>\n",
       "      <td>2016-01-08 17:18:59</td>\n",
       "      <td>0x2de201</td>\n",
       "      <td>[]</td>\n",
       "      <td>\"Trust is not the same as faith. A friend is s...</td>\n",
       "    </tr>\n",
       "    <tr>\n",
       "      <th>9</th>\n",
       "      <td>66</td>\n",
       "      <td>2015-09-09 09:22:55</td>\n",
       "      <td>0x218443</td>\n",
       "      <td>[materialism, money, possessions]</td>\n",
       "      <td>When do you have enough ? When are you satisfi...</td>\n",
       "    </tr>\n",
       "    <tr>\n",
       "      <th>30</th>\n",
       "      <td>104</td>\n",
       "      <td>2015-10-10 14:33:26</td>\n",
       "      <td>0x2939d5</td>\n",
       "      <td>[GodsPlan, GodsWork]</td>\n",
       "      <td>God woke you up, now chase the day #GodsPlan #...</td>\n",
       "    </tr>\n",
       "    <tr>\n",
       "      <th>33</th>\n",
       "      <td>310</td>\n",
       "      <td>2016-10-23 08:49:50</td>\n",
       "      <td>0x26289a</td>\n",
       "      <td>[]</td>\n",
       "      <td>In these tough times, who do YOU turn to as yo...</td>\n",
       "    </tr>\n",
       "    <tr>\n",
       "      <th>...</th>\n",
       "      <td>...</td>\n",
       "      <td>...</td>\n",
       "      <td>...</td>\n",
       "      <td>...</td>\n",
       "      <td>...</td>\n",
       "    </tr>\n",
       "    <tr>\n",
       "      <th>1867525</th>\n",
       "      <td>602</td>\n",
       "      <td>2016-12-10 18:01:00</td>\n",
       "      <td>0x2913b4</td>\n",
       "      <td>[]</td>\n",
       "      <td>\"For this is the message that ye heard from th...</td>\n",
       "    </tr>\n",
       "    <tr>\n",
       "      <th>1867529</th>\n",
       "      <td>598</td>\n",
       "      <td>2015-01-04 14:40:55</td>\n",
       "      <td>0x2a980e</td>\n",
       "      <td>[]</td>\n",
       "      <td>\"There is a lad here, which hath five barley l...</td>\n",
       "    </tr>\n",
       "    <tr>\n",
       "      <th>1867530</th>\n",
       "      <td>827</td>\n",
       "      <td>2015-05-12 12:51:52</td>\n",
       "      <td>0x316b80</td>\n",
       "      <td>[mixedfeeling, butimTHATperson]</td>\n",
       "      <td>When you buy the last 2 tickets remaining for ...</td>\n",
       "    </tr>\n",
       "    <tr>\n",
       "      <th>1867531</th>\n",
       "      <td>368</td>\n",
       "      <td>2017-10-02 17:54:04</td>\n",
       "      <td>0x29d0cb</td>\n",
       "      <td>[]</td>\n",
       "      <td>I swear all this hard work gone pay off one da...</td>\n",
       "    </tr>\n",
       "    <tr>\n",
       "      <th>1867532</th>\n",
       "      <td>498</td>\n",
       "      <td>2016-10-10 11:04:32</td>\n",
       "      <td>0x2a6a4f</td>\n",
       "      <td>[]</td>\n",
       "      <td>@Parcel2Go no card left when I wasn't in so I ...</td>\n",
       "    </tr>\n",
       "  </tbody>\n",
       "</table>\n",
       "<p>411972 rows × 5 columns</p>\n",
       "</div>"
      ],
      "text/plain": [
       "         _score           _crawldate  tweet_id  \\\n",
       "2           232  2017-12-25 04:39:20  0x28b412   \n",
       "4           989  2016-01-08 17:18:59  0x2de201   \n",
       "9            66  2015-09-09 09:22:55  0x218443   \n",
       "30          104  2015-10-10 14:33:26  0x2939d5   \n",
       "33          310  2016-10-23 08:49:50  0x26289a   \n",
       "...         ...                  ...       ...   \n",
       "1867525     602  2016-12-10 18:01:00  0x2913b4   \n",
       "1867529     598  2015-01-04 14:40:55  0x2a980e   \n",
       "1867530     827  2015-05-12 12:51:52  0x316b80   \n",
       "1867531     368  2017-10-02 17:54:04  0x29d0cb   \n",
       "1867532     498  2016-10-10 11:04:32  0x2a6a4f   \n",
       "\n",
       "                                  hashtags  \\\n",
       "2                             [bibleverse]   \n",
       "4                                       []   \n",
       "9        [materialism, money, possessions]   \n",
       "30                    [GodsPlan, GodsWork]   \n",
       "33                                      []   \n",
       "...                                    ...   \n",
       "1867525                                 []   \n",
       "1867529                                 []   \n",
       "1867530    [mixedfeeling, butimTHATperson]   \n",
       "1867531                                 []   \n",
       "1867532                                 []   \n",
       "\n",
       "                                                      text  \n",
       "2        Confident of your obedience, I write to you, k...  \n",
       "4        \"Trust is not the same as faith. A friend is s...  \n",
       "9        When do you have enough ? When are you satisfi...  \n",
       "30       God woke you up, now chase the day #GodsPlan #...  \n",
       "33       In these tough times, who do YOU turn to as yo...  \n",
       "...                                                    ...  \n",
       "1867525  \"For this is the message that ye heard from th...  \n",
       "1867529  \"There is a lad here, which hath five barley l...  \n",
       "1867530  When you buy the last 2 tickets remaining for ...  \n",
       "1867531  I swear all this hard work gone pay off one da...  \n",
       "1867532  @Parcel2Go no card left when I wasn't in so I ...  \n",
       "\n",
       "[411972 rows x 5 columns]"
      ]
     },
     "execution_count": 15,
     "metadata": {},
     "output_type": "execute_result"
    }
   ],
   "source": [
    "test_df"
   ]
  },
  {
   "cell_type": "code",
   "execution_count": 16,
   "metadata": {},
   "outputs": [
    {
     "data": {
      "text/plain": [
       "array(['anticipation', 'sadness', 'fear', 'joy', 'anger', 'trust',\n",
       "       'disgust', 'surprise'], dtype=object)"
      ]
     },
     "execution_count": 16,
     "metadata": {},
     "output_type": "execute_result"
    }
   ],
   "source": [
    "train_df.emotion.unique()"
   ]
  },
  {
   "cell_type": "code",
   "execution_count": 17,
   "metadata": {},
   "outputs": [
    {
     "data": {
      "image/png": "[encoded data removed]",
      "text/plain": [
       "<Figure size 1000x600 with 1 Axes>"
      ]
     },
     "metadata": {},
     "output_type": "display_data"
    }
   ],
   "source": [
    "emotion_counts = train_df['emotion'].value_counts()\n",
    "\n",
    "plt.figure(figsize=(10, 6))\n",
    "emotion_counts.plot(kind='bar', color='skyblue', edgecolor='black')\n",
    "\n",
    "plt.xlabel('Emotion', fontsize=14)\n",
    "plt.ylabel('Count', fontsize=14)\n",
    "plt.title('Emotion Distribution', fontsize=16)\n",
    "\n",
    "for idx, value in enumerate(emotion_counts):\n",
    "    plt.text(idx, value + 0.1, str(value), ha='center', fontsize=12)\n",
    "\n",
    "plt.xticks(rotation=45, fontsize=12)\n",
    "plt.yticks(fontsize=12)\n",
    "plt.tight_layout()\n",
    "plt.show()"
   ]
  },
  {
   "cell_type": "markdown",
   "metadata": {},
   "source": [
    "# Training and Predicting"
   ]
  },
  {
   "cell_type": "markdown",
   "metadata": {},
   "source": [
    "### 1. tfidf matrix & MultinomialNB"
   ]
  },
  {
   "cell_type": "code",
   "execution_count": 18,
   "metadata": {},
   "outputs": [
    {
     "name": "stdout",
     "output_type": "stream",
     "text": [
      "['anticipation', 'sadness', 'fear', 'joy', 'anger', 'trust', 'disgust', 'surprise']\n"
     ]
    }
   ],
   "source": [
    "tfidf_vectorizer = TfidfVectorizer(max_features=20000)  # Limit number of terms if needed\n",
    "#tfidf_vectorizer = TfidfVectorizer()\n",
    "tfidf_vectorizer.fit(train_df['text'])\n",
    "tfidf_matrix_train = tfidf_vectorizer.transform(train_df['text'])\n",
    "terms = tfidf_vectorizer.get_feature_names_out()\n",
    "\n",
    "category_mapping = dict(train_df[['numerical_emotion', 'emotion']].drop_duplicates().values)\n",
    "target_names = [category_mapping[label] for label in sorted(category_mapping.keys())]\n",
    "print(target_names)\n",
    "\n",
    "X_train, X_test, y_train, y_test = train_test_split(tfidf_matrix_train, train_df['numerical_emotion'], test_size=0.3, random_state=42)"
   ]
  },
  {
   "cell_type": "code",
   "execution_count": 19,
   "metadata": {},
   "outputs": [
    {
     "name": "stdout",
     "output_type": "stream",
     "text": [
      "test: \n",
      "Accuracy: 0.5195124911546274\n",
      "\n",
      "Classification Report:\n",
      "               precision    recall  f1-score   support\n",
      "\n",
      "anticipation     0.6474    0.4537    0.5335     74942\n",
      "     sadness     0.5180    0.4063    0.4554     58054\n",
      "        fear     0.8369    0.2586    0.3951     19225\n",
      "         joy     0.4794    0.8849    0.6219    154623\n",
      "       anger     0.8273    0.1153    0.2023     11930\n",
      "       trust     0.6412    0.1814    0.2828     61740\n",
      "     disgust     0.5043    0.3179    0.3899     41475\n",
      "    surprise     0.8472    0.1167    0.2051     14680\n",
      "\n",
      "    accuracy                         0.5195    436669\n",
      "   macro avg     0.6627    0.3418    0.3858    436669\n",
      "weighted avg     0.5762    0.5195    0.4792    436669\n",
      "\n",
      "train: \n",
      "Accuracy: 0.5327727908889442\n",
      "\n",
      "Classification Report:\n",
      "               precision    recall  f1-score   support\n",
      "\n",
      "anticipation     0.6591    0.4655    0.5457    173993\n",
      "     sadness     0.5428    0.4272    0.4781    135383\n",
      "        fear     0.8487    0.2675    0.4068     44774\n",
      "         joy     0.4870    0.8927    0.6302    361394\n",
      "       anger     0.8538    0.1275    0.2218     27937\n",
      "       trust     0.6701    0.1940    0.3009    143738\n",
      "     disgust     0.5433    0.3456    0.4225     97626\n",
      "    surprise     0.8495    0.1240    0.2164     34049\n",
      "\n",
      "    accuracy                         0.5328   1018894\n",
      "   macro avg     0.6818    0.3555    0.4028   1018894\n",
      "weighted avg     0.5931    0.5328    0.4943   1018894\n",
      "\n"
     ]
    }
   ],
   "source": [
    "nb_classifier = MultinomialNB()\n",
    "nb_classifier.fit(X_train, y_train)\n",
    "\n",
    "y_test_pred = nb_classifier.predict(X_test)\n",
    "y_train_pred = nb_classifier.predict(X_train)\n",
    "\n",
    "print(\"test: \")\n",
    "print(\"Accuracy:\", accuracy_score(y_test, y_test_pred))\n",
    "print(\"\\nClassification Report:\\n\", classification_report(y_test, y_test_pred, target_names=target_names, digits=4))\n",
    "\n",
    "print(\"train: \")\n",
    "print(\"Accuracy:\", accuracy_score(y_train, y_train_pred))\n",
    "print(\"\\nClassification Report:\\n\", classification_report(y_train, y_train_pred, target_names=target_names, digits=4))"
   ]
  },
  {
   "cell_type": "code",
   "execution_count": 20,
   "metadata": {},
   "outputs": [],
   "source": [
    "tfidf_matrix_test = tfidf_vectorizer.transform(test_df['text'])\n",
    "y_pred = nb_classifier.predict(tfidf_matrix_test)"
   ]
  },
  {
   "cell_type": "code",
   "execution_count": 21,
   "metadata": {},
   "outputs": [],
   "source": [
    "list_of_tuples = list(zip(y_pred, test_df['tweet_id'].values))\n",
    "result = pd.DataFrame(list_of_tuples, columns=['emotion', 'id'])\n",
    "result['emotion'] = result['emotion'].apply(lambda r: category_mapping.get(r))"
   ]
  },
  {
   "cell_type": "code",
   "execution_count": 22,
   "metadata": {},
   "outputs": [
    {
     "data": {
      "text/html": [
       "<div>\n",
       "<style scoped>\n",
       "    .dataframe tbody tr th:only-of-type {\n",
       "        vertical-align: middle;\n",
       "    }\n",
       "\n",
       "    .dataframe tbody tr th {\n",
       "        vertical-align: top;\n",
       "    }\n",
       "\n",
       "    .dataframe thead th {\n",
       "        text-align: right;\n",
       "    }\n",
       "</style>\n",
       "<table border=\"1\" class=\"dataframe\">\n",
       "  <thead>\n",
       "    <tr style=\"text-align: right;\">\n",
       "      <th></th>\n",
       "      <th>emotion</th>\n",
       "      <th>id</th>\n",
       "    </tr>\n",
       "  </thead>\n",
       "  <tbody>\n",
       "    <tr>\n",
       "      <th>0</th>\n",
       "      <td>anticipation</td>\n",
       "      <td>0x28b412</td>\n",
       "    </tr>\n",
       "    <tr>\n",
       "      <th>1</th>\n",
       "      <td>anticipation</td>\n",
       "      <td>0x2de201</td>\n",
       "    </tr>\n",
       "    <tr>\n",
       "      <th>2</th>\n",
       "      <td>joy</td>\n",
       "      <td>0x218443</td>\n",
       "    </tr>\n",
       "    <tr>\n",
       "      <th>3</th>\n",
       "      <td>joy</td>\n",
       "      <td>0x2939d5</td>\n",
       "    </tr>\n",
       "    <tr>\n",
       "      <th>4</th>\n",
       "      <td>joy</td>\n",
       "      <td>0x26289a</td>\n",
       "    </tr>\n",
       "    <tr>\n",
       "      <th>...</th>\n",
       "      <td>...</td>\n",
       "      <td>...</td>\n",
       "    </tr>\n",
       "    <tr>\n",
       "      <th>411967</th>\n",
       "      <td>anticipation</td>\n",
       "      <td>0x2913b4</td>\n",
       "    </tr>\n",
       "    <tr>\n",
       "      <th>411968</th>\n",
       "      <td>anticipation</td>\n",
       "      <td>0x2a980e</td>\n",
       "    </tr>\n",
       "    <tr>\n",
       "      <th>411969</th>\n",
       "      <td>joy</td>\n",
       "      <td>0x316b80</td>\n",
       "    </tr>\n",
       "    <tr>\n",
       "      <th>411970</th>\n",
       "      <td>joy</td>\n",
       "      <td>0x29d0cb</td>\n",
       "    </tr>\n",
       "    <tr>\n",
       "      <th>411971</th>\n",
       "      <td>sadness</td>\n",
       "      <td>0x2a6a4f</td>\n",
       "    </tr>\n",
       "  </tbody>\n",
       "</table>\n",
       "<p>411972 rows × 2 columns</p>\n",
       "</div>"
      ],
      "text/plain": [
       "             emotion        id\n",
       "0       anticipation  0x28b412\n",
       "1       anticipation  0x2de201\n",
       "2                joy  0x218443\n",
       "3                joy  0x2939d5\n",
       "4                joy  0x26289a\n",
       "...              ...       ...\n",
       "411967  anticipation  0x2913b4\n",
       "411968  anticipation  0x2a980e\n",
       "411969           joy  0x316b80\n",
       "411970           joy  0x29d0cb\n",
       "411971       sadness  0x2a6a4f\n",
       "\n",
       "[411972 rows x 2 columns]"
      ]
     },
     "execution_count": 22,
     "metadata": {},
     "output_type": "execute_result"
    }
   ],
   "source": [
    "result"
   ]
  },
  {
   "cell_type": "code",
   "execution_count": 23,
   "metadata": {},
   "outputs": [],
   "source": [
    "result.to_csv('result.csv', index=False)"
   ]
  },
  {
   "cell_type": "markdown",
   "metadata": {},
   "source": [
    "### 2. tfidf matrix & Decision Tree"
   ]
  },
  {
   "cell_type": "code",
   "execution_count": 24,
   "metadata": {},
   "outputs": [
    {
     "name": "stdout",
     "output_type": "stream",
     "text": [
      "['anticipation', 'sadness', 'fear', 'joy', 'anger', 'trust', 'disgust', 'surprise']\n"
     ]
    }
   ],
   "source": [
    "tfidf_vectorizer = TfidfVectorizer(max_features=20000)  # Limit number of terms if needed\n",
    "#tfidf_vectorizer = TfidfVectorizer()\n",
    "tfidf_vectorizer.fit(train_df['text'])\n",
    "tfidf_matrix_train = tfidf_vectorizer.transform(train_df['text'])\n",
    "terms = tfidf_vectorizer.get_feature_names_out()\n",
    "\n",
    "category_mapping = dict(train_df[['numerical_emotion', 'emotion']].drop_duplicates().values)\n",
    "target_names = [category_mapping[label] for label in sorted(category_mapping.keys())]\n",
    "print(target_names)\n",
    "\n",
    "X_train, X_test, y_train, y_test = train_test_split(tfidf_matrix_train, train_df['numerical_emotion'], test_size=0.3, random_state=42)"
   ]
  },
  {
   "cell_type": "code",
   "execution_count": 25,
   "metadata": {},
   "outputs": [
    {
     "name": "stdout",
     "output_type": "stream",
     "text": [
      "test: \n",
      "Accuracy: 0.4760516546858147\n",
      "\n",
      "Classification Report:\n",
      "               precision    recall  f1-score   support\n",
      "\n",
      "anticipation     0.5555    0.4076    0.4702     74942\n",
      "     sadness     0.4981    0.3087    0.3812     58054\n",
      "        fear     0.7624    0.2390    0.3639     19225\n",
      "         joy     0.4473    0.8342    0.5823    154623\n",
      "       anger     0.7202    0.1437    0.2396     11930\n",
      "       trust     0.5042    0.2306    0.3165     61740\n",
      "     disgust     0.4239    0.1828    0.2554     41475\n",
      "    surprise     0.8205    0.1563    0.2625     14680\n",
      "\n",
      "    accuracy                         0.4761    436669\n",
      "   macro avg     0.5915    0.3129    0.3590    436669\n",
      "weighted avg     0.5123    0.4761    0.4380    436669\n",
      "\n",
      "train: \n",
      "Accuracy: 0.5191089553967341\n",
      "\n",
      "Classification Report:\n",
      "               precision    recall  f1-score   support\n",
      "\n",
      "anticipation     0.6246    0.4617    0.5310    173993\n",
      "     sadness     0.5682    0.3549    0.4370    135383\n",
      "        fear     0.7816    0.2548    0.3844     44774\n",
      "         joy     0.4738    0.8790    0.6157    361394\n",
      "       anger     0.7585    0.1568    0.2599     27937\n",
      "       trust     0.6045    0.2784    0.3812    143738\n",
      "     disgust     0.5111    0.2205    0.3081     97626\n",
      "    surprise     0.8439    0.1625    0.2725     34049\n",
      "\n",
      "    accuracy                         0.5191   1018894\n",
      "   macro avg     0.6458    0.3461    0.3987   1018894\n",
      "weighted avg     0.5678    0.5191    0.4835   1018894\n",
      "\n"
     ]
    }
   ],
   "source": [
    "DT_model = DecisionTreeClassifier(random_state=1, max_depth=100, min_samples_split=50, min_samples_leaf=25)\n",
    "DT_model = DT_model.fit(X_train, y_train)\n",
    "\n",
    "y_train_pred = DT_model.predict(X_train)\n",
    "y_test_pred = DT_model.predict(X_test)\n",
    "\n",
    "print(\"test: \")\n",
    "print(\"Accuracy:\", accuracy_score(y_test, y_test_pred))\n",
    "print(\"\\nClassification Report:\\n\", classification_report(y_test, y_test_pred, target_names=target_names, digits=4))\n",
    "\n",
    "print(\"train: \")\n",
    "print(\"Accuracy:\", accuracy_score(y_train, y_train_pred))\n",
    "print(\"\\nClassification Report:\\n\", classification_report(y_train, y_train_pred, target_names=target_names, digits=4))"
   ]
  },
  {
   "cell_type": "code",
   "execution_count": 26,
   "metadata": {},
   "outputs": [],
   "source": [
    "tfidf_matrix_test = tfidf_vectorizer.transform(test_df['text'])\n",
    "y_pred = DT_model.predict(tfidf_matrix_test)"
   ]
  },
  {
   "cell_type": "code",
   "execution_count": 27,
   "metadata": {},
   "outputs": [],
   "source": [
    "list_of_tuples = list(zip(y_pred, test_df['tweet_id'].values))\n",
    "result = pd.DataFrame(list_of_tuples, columns=['emotion', 'id'])\n",
    "result['emotion'] = result['emotion'].apply(lambda r: category_mapping.get(r))"
   ]
  },
  {
   "cell_type": "code",
   "execution_count": 28,
   "metadata": {},
   "outputs": [
    {
     "data": {
      "text/html": [
       "<div>\n",
       "<style scoped>\n",
       "    .dataframe tbody tr th:only-of-type {\n",
       "        vertical-align: middle;\n",
       "    }\n",
       "\n",
       "    .dataframe tbody tr th {\n",
       "        vertical-align: top;\n",
       "    }\n",
       "\n",
       "    .dataframe thead th {\n",
       "        text-align: right;\n",
       "    }\n",
       "</style>\n",
       "<table border=\"1\" class=\"dataframe\">\n",
       "  <thead>\n",
       "    <tr style=\"text-align: right;\">\n",
       "      <th></th>\n",
       "      <th>emotion</th>\n",
       "      <th>id</th>\n",
       "    </tr>\n",
       "  </thead>\n",
       "  <tbody>\n",
       "    <tr>\n",
       "      <th>0</th>\n",
       "      <td>trust</td>\n",
       "      <td>0x28b412</td>\n",
       "    </tr>\n",
       "    <tr>\n",
       "      <th>1</th>\n",
       "      <td>anticipation</td>\n",
       "      <td>0x2de201</td>\n",
       "    </tr>\n",
       "    <tr>\n",
       "      <th>2</th>\n",
       "      <td>joy</td>\n",
       "      <td>0x218443</td>\n",
       "    </tr>\n",
       "    <tr>\n",
       "      <th>3</th>\n",
       "      <td>joy</td>\n",
       "      <td>0x2939d5</td>\n",
       "    </tr>\n",
       "    <tr>\n",
       "      <th>4</th>\n",
       "      <td>joy</td>\n",
       "      <td>0x26289a</td>\n",
       "    </tr>\n",
       "    <tr>\n",
       "      <th>...</th>\n",
       "      <td>...</td>\n",
       "      <td>...</td>\n",
       "    </tr>\n",
       "    <tr>\n",
       "      <th>411967</th>\n",
       "      <td>joy</td>\n",
       "      <td>0x2913b4</td>\n",
       "    </tr>\n",
       "    <tr>\n",
       "      <th>411968</th>\n",
       "      <td>joy</td>\n",
       "      <td>0x2a980e</td>\n",
       "    </tr>\n",
       "    <tr>\n",
       "      <th>411969</th>\n",
       "      <td>anticipation</td>\n",
       "      <td>0x316b80</td>\n",
       "    </tr>\n",
       "    <tr>\n",
       "      <th>411970</th>\n",
       "      <td>joy</td>\n",
       "      <td>0x29d0cb</td>\n",
       "    </tr>\n",
       "    <tr>\n",
       "      <th>411971</th>\n",
       "      <td>joy</td>\n",
       "      <td>0x2a6a4f</td>\n",
       "    </tr>\n",
       "  </tbody>\n",
       "</table>\n",
       "<p>411972 rows × 2 columns</p>\n",
       "</div>"
      ],
      "text/plain": [
       "             emotion        id\n",
       "0              trust  0x28b412\n",
       "1       anticipation  0x2de201\n",
       "2                joy  0x218443\n",
       "3                joy  0x2939d5\n",
       "4                joy  0x26289a\n",
       "...              ...       ...\n",
       "411967           joy  0x2913b4\n",
       "411968           joy  0x2a980e\n",
       "411969  anticipation  0x316b80\n",
       "411970           joy  0x29d0cb\n",
       "411971           joy  0x2a6a4f\n",
       "\n",
       "[411972 rows x 2 columns]"
      ]
     },
     "execution_count": 28,
     "metadata": {},
     "output_type": "execute_result"
    }
   ],
   "source": [
    "result"
   ]
  },
  {
   "cell_type": "code",
   "execution_count": 29,
   "metadata": {},
   "outputs": [],
   "source": [
    "result.to_csv('result.csv', index=False)"
   ]
  },
  {
   "cell_type": "markdown",
   "metadata": {
    "jp-MarkdownHeadingCollapsed": true
   },
   "source": [
    "### 3. PAMI"
   ]
  },
  {
   "cell_type": "code",
   "execution_count": null,
   "metadata": {},
   "outputs": [],
   "source": [
    "categories = train_df['emotion'].unique()\n",
    "category_dfs = {}\n",
    "\n",
    "for category in categories:\n",
    "    category_dfs[category] = train_df[train_df['emotion'] == category].copy()"
   ]
  },
  {
   "cell_type": "code",
   "execution_count": null,
   "metadata": {},
   "outputs": [],
   "source": [
    "def create_term_document_df(df):\n",
    "    count_vect = CountVectorizer()\n",
    "    count_vect.fit(df['text'])\n",
    "    term_document = count_vect.transform(df['text'])\n",
    "    words = count_vect.get_feature_names_out()\n",
    "    # term_document_df = pd.DataFrame(term_document.todense(), columns=words)\n",
    "    term_document_df = pd.DataFrame.sparse.from_spmatrix(term_document, columns=words)\n",
    "    return term_document_df\n",
    "\n",
    "term_document_dicts = {} \n",
    "\n",
    "for category in categories:\n",
    "    term_document_dicts[category] = create_term_document_df(category_dfs[category])"
   ]
  },
  {
   "cell_type": "code",
   "execution_count": null,
   "metadata": {},
   "outputs": [
    {
     "name": "stdout",
     "output_type": "stream",
     "text": [
      "For category anticipation we filter the following words:\n"
     ]
    },
    {
     "ename": "AttributeError",
     "evalue": "'matrix' object has no attribute 'sort_values'",
     "output_type": "error",
     "traceback": [
      "\u001b[1;31m---------------------------------------------------------------------------\u001b[0m\n",
      "\u001b[1;31mAttributeError\u001b[0m                            Traceback (most recent call last)\n",
      "Cell \u001b[1;32mIn[46], line 44\u001b[0m\n",
      "\u001b[0;32m     42\u001b[0m \u001b[38;5;28;01mfor\u001b[39;00m category \u001b[38;5;129;01min\u001b[39;00m categories:\n",
      "\u001b[0;32m     43\u001b[0m     \u001b[38;5;28mprint\u001b[39m(\u001b[38;5;124mf\u001b[39m\u001b[38;5;124m'\u001b[39m\u001b[38;5;124mFor category \u001b[39m\u001b[38;5;132;01m{\u001b[39;00mcategory\u001b[38;5;132;01m}\u001b[39;00m\u001b[38;5;124m we filter the following words:\u001b[39m\u001b[38;5;124m'\u001b[39m)\n",
      "\u001b[1;32m---> 44\u001b[0m     filtered_term_document_dfs[category], temp_pd_out_bottom, temp_pd_out_top \u001b[38;5;241m=\u001b[39m \u001b[43mfilter_top_bottom_words_by_sum\u001b[49m\u001b[43m(\u001b[49m\u001b[43mterm_document_dfs\u001b[49m\u001b[43m[\u001b[49m\u001b[43mcategory\u001b[49m\u001b[43m]\u001b[49m\u001b[43m,\u001b[49m\u001b[43m \u001b[49m\u001b[43mcategory\u001b[49m\u001b[43m,\u001b[49m\u001b[43m \u001b[49m\u001b[43mtemp_pd_out_bottom\u001b[49m\u001b[43m,\u001b[49m\u001b[43m \u001b[49m\u001b[43mtemp_pd_out_top\u001b[49m\u001b[43m)\u001b[49m\n",
      "\u001b[0;32m     45\u001b[0m term_document_dfs\u001b[38;5;241m=\u001b[39mfiltered_term_document_dfs\n",
      "\u001b[0;32m     46\u001b[0m \u001b[38;5;66;03m# Example: Display the filtered DataFrame for one of the categories\u001b[39;00m\n",
      "\n",
      "Cell \u001b[1;32mIn[46], line 10\u001b[0m, in \u001b[0;36mfilter_top_bottom_words_by_sum\u001b[1;34m(term_document_df, category_name, temp_pd_bottom, temp_pd_top, top_percent, bottom_percent)\u001b[0m\n",
      "\u001b[0;32m      7\u001b[0m word_sums \u001b[38;5;241m=\u001b[39m term_document_df\u001b[38;5;241m.\u001b[39msum(axis\u001b[38;5;241m=\u001b[39m\u001b[38;5;241m0\u001b[39m)\n",
      "\u001b[0;32m      9\u001b[0m \u001b[38;5;66;03m# Sort the words by their total sum\u001b[39;00m\n",
      "\u001b[1;32m---> 10\u001b[0m sorted_words \u001b[38;5;241m=\u001b[39m \u001b[43mword_sums\u001b[49m\u001b[38;5;241;43m.\u001b[39;49m\u001b[43msort_values\u001b[49m()\n",
      "\u001b[0;32m     12\u001b[0m \u001b[38;5;66;03m# Calculate the number of words to remove\u001b[39;00m\n",
      "\u001b[0;32m     13\u001b[0m total_words \u001b[38;5;241m=\u001b[39m \u001b[38;5;28mlen\u001b[39m(sorted_words)\n",
      "\n",
      "\u001b[1;31mAttributeError\u001b[0m: 'matrix' object has no attribute 'sort_values'"
     ]
    }
   ],
   "source": [
    "temp_pd_out_bottom = pd.DataFrame()\n",
    "temp_pd_out_top = pd.DataFrame()\n",
    "\n",
    "# Filter the bottom 1% and top 5% words based on their sum across all documents\n",
    "def filter_top_bottom_words_by_sum(term_document_df, category_name, temp_pd_bottom, temp_pd_top, top_percent=0.05, bottom_percent=0.01):\n",
    "    # Calculate the sum of each word across all documents\n",
    "    word_sums = term_document_df.sum(axis=0)\n",
    "    \n",
    "    # Sort the words by their total sum\n",
    "    sorted_words = word_sums.sort_values()\n",
    "    \n",
    "    # Calculate the number of words to remove\n",
    "    total_words = len(sorted_words)\n",
    "    top_n = int(top_percent * total_words)\n",
    "    bottom_n = int(bottom_percent * total_words)\n",
    "    \n",
    "    # Get the words to remove from the top 5% and bottom 1%\n",
    "    words_to_remove = pd.concat([sorted_words.head(bottom_n), sorted_words.tail(top_n)]).index\n",
    "    \n",
    "    print(f'Bottom percentage: {sorted_words.head(bottom_n)}') # print which words correspond to the bottom percentage we filterd\n",
    "    print(f'Top percentage: {sorted_words.tail(top_n)}') # print which words correspond to the top percentage we filterd\n",
    "\n",
    "    if (temp_pd_top.empty):\n",
    "        temp_pd_top = pd.DataFrame(sorted_words.tail(20).index.array, columns=[category_name])\n",
    "    else:\n",
    "        right = pd.DataFrame(sorted_words.tail(20).index.array, columns=[category_name])\n",
    "        temp_pd_top = pd.merge(temp_pd_top, right, left_index=True, right_index=True)\n",
    "\n",
    "    if (temp_pd_bottom.empty):\n",
    "        temp_pd_bottom = pd.DataFrame(sorted_words.head(20).index.array, columns=[category_name])\n",
    "    else:\n",
    "        right = pd.DataFrame(sorted_words.head(20).index.array, columns=[category_name])\n",
    "        temp_pd_bottom = pd.merge(temp_pd_bottom, right, left_index=True, right_index=True)\n",
    "    \n",
    "    # Return the DataFrame without the filtered words\n",
    "    return term_document_df.drop(columns=words_to_remove), temp_pd_bottom, temp_pd_top\n",
    "    \n",
    "\n",
    "# Apply the filtering function to each category\n",
    "filtered_term_document_dfs = {}\n",
    "\n",
    "for category in categories:\n",
    "    print(f'For category {category} we filter the following words:')\n",
    "    filtered_term_document_dfs[category], temp_pd_out_bottom, temp_pd_out_top = filter_top_bottom_words_by_sum(term_document_dfs[category], category, temp_pd_out_bottom, temp_pd_out_top)\n",
    "term_document_dfs=filtered_term_document_dfs\n",
    "# Example: Display the filtered DataFrame for one of the categories\n",
    "print(f\"Filtered Term-Document Frequency DataFrame for Category {categories[category_number]}:\")\n",
    "filtered_term_document_dfs[categories[category_number]]"
   ]
  },
  {
   "cell_type": "code",
   "execution_count": null,
   "metadata": {},
   "outputs": [
    {
     "ename": "UnicodeEncodeError",
     "evalue": "'cp950' codec can't encode character '\\xe9' in position 7: illegal multibyte sequence",
     "output_type": "error",
     "traceback": [
      "\u001b[1;31m---------------------------------------------------------------------------\u001b[0m\n",
      "\u001b[1;31mUnicodeEncodeError\u001b[0m                        Traceback (most recent call last)\n",
      "Cell \u001b[1;32mIn[45], line 8\u001b[0m\n",
      "\u001b[0;32m      6\u001b[0m \u001b[38;5;66;03m# Create the DenseFormatDF object and convert to a transactional database\u001b[39;00m\n",
      "\u001b[0;32m      7\u001b[0m obj \u001b[38;5;241m=\u001b[39m db\u001b[38;5;241m.\u001b[39mDenseFormatDF(term_document)\n",
      "\u001b[1;32m----> 8\u001b[0m \u001b[43mobj\u001b[49m\u001b[38;5;241;43m.\u001b[39;49m\u001b[43mconvert2TransactionalDatabase\u001b[49m\u001b[43m(\u001b[49m\u001b[38;5;124;43mf\u001b[39;49m\u001b[38;5;124;43m'\u001b[39;49m\u001b[38;5;124;43mtd_freq_db_\u001b[39;49m\u001b[38;5;132;43;01m{\u001b[39;49;00m\u001b[43mcategory_save_name\u001b[49m\u001b[38;5;132;43;01m}\u001b[39;49;00m\u001b[38;5;124;43m.csv\u001b[39;49m\u001b[38;5;124;43m'\u001b[39;49m\u001b[43m,\u001b[49m\u001b[43m \u001b[49m\u001b[38;5;124;43m'\u001b[39;49m\u001b[38;5;124;43m>=\u001b[39;49m\u001b[38;5;124;43m'\u001b[39;49m\u001b[43m,\u001b[49m\u001b[43m \u001b[49m\u001b[38;5;241;43m1\u001b[39;49m\u001b[43m)\u001b[49m\n",
      "\u001b[0;32m      9\u001b[0m \u001b[38;5;66;03m#使用頻率大於等於1的(有使用的)都會被加入 transaction 中\u001b[39;00m\n",
      "\n",
      "File \u001b[1;32m~\\data\\python_virtual_env\\DM2024\\Lib\\site-packages\\PAMI\\extras\\DF2DB\\DenseFormatDF.py:129\u001b[0m, in \u001b[0;36mDenseFormatDF.convert2TransactionalDatabase\u001b[1;34m(self, outputFile, condition, thresholdValue)\u001b[0m\n",
      "\u001b[0;32m    127\u001b[0m     f\u001b[38;5;241m.\u001b[39mwrite(\u001b[38;5;124mf\u001b[39m\u001b[38;5;124m'\u001b[39m\u001b[38;5;132;01m{\u001b[39;00mtransaction[\u001b[38;5;241m0\u001b[39m]\u001b[38;5;132;01m}\u001b[39;00m\u001b[38;5;124m'\u001b[39m)\n",
      "\u001b[0;32m    128\u001b[0m     \u001b[38;5;28;01mfor\u001b[39;00m item \u001b[38;5;129;01min\u001b[39;00m transaction[\u001b[38;5;241m1\u001b[39m:]:\n",
      "\u001b[1;32m--> 129\u001b[0m         f\u001b[38;5;241m.\u001b[39mwrite(\u001b[38;5;124mf\u001b[39m\u001b[38;5;124m'\u001b[39m\u001b[38;5;130;01m\\t\u001b[39;00m\u001b[38;5;132;01m{\u001b[39;00mitem\u001b[38;5;132;01m}\u001b[39;00m\u001b[38;5;124m'\u001b[39m)\n",
      "\u001b[0;32m    130\u001b[0m \u001b[38;5;28;01melif\u001b[39;00m \u001b[38;5;28mlen\u001b[39m(transaction) \u001b[38;5;241m==\u001b[39m \u001b[38;5;241m1\u001b[39m:\n",
      "\u001b[0;32m    131\u001b[0m     f\u001b[38;5;241m.\u001b[39mwrite(\u001b[38;5;124mf\u001b[39m\u001b[38;5;124m'\u001b[39m\u001b[38;5;132;01m{\u001b[39;00mtransaction[\u001b[38;5;241m0\u001b[39m]\u001b[38;5;132;01m}\u001b[39;00m\u001b[38;5;124m'\u001b[39m)\n",
      "\n",
      "\u001b[1;31mUnicodeEncodeError\u001b[0m: 'cp950' codec can't encode character '\\xe9' in position 7: illegal multibyte sequence"
     ]
    }
   ],
   "source": [
    "from PAMI.extras.DF2DB import DenseFormatDF as db\n",
    "\n",
    "for category, term_document in term_document_dicts.items():\n",
    "    category_save_name = category.replace('.', '_')\n",
    "\n",
    "    # Create the DenseFormatDF object and convert to a transactional database\n",
    "    obj = db.DenseFormatDF(term_document)\n",
    "    obj.convert2TransactionalDatabase(f'td_freq_db_{category_save_name}.csv', '>=', 1)\n",
    "    #使用頻率大於等於1的(有使用的)都會被加入 transaction 中"
   ]
  },
  {
   "cell_type": "code",
   "execution_count": null,
   "metadata": {},
   "outputs": [],
   "source": [
    "from PAMI.extras.dbStats import TransactionalDatabase as tds\n",
    "obj = tds.TransactionalDatabase('td_freq_db_.csv')\n",
    "obj.run()\n",
    "obj.printStats()\n",
    "obj.plotGraphs()"
   ]
  },
  {
   "cell_type": "markdown",
   "metadata": {},
   "source": [
    "### 4. word2vec & tfidf weighted sum & KNeighborsClassifier"
   ]
  },
  {
   "cell_type": "code",
   "execution_count": null,
   "metadata": {},
   "outputs": [
    {
     "name": "stdout",
     "output_type": "stream",
     "text": [
      "emotion\n",
      "anger           35000\n",
      "anticipation    35000\n",
      "disgust         35000\n",
      "fear            35000\n",
      "joy             35000\n",
      "sadness         35000\n",
      "surprise        35000\n",
      "trust           35000\n",
      "Name: count, dtype: int64\n"
     ]
    }
   ],
   "source": [
    "#min_size = train_df['emotion'].value_counts().min()\n",
    "min_size = 35000\n",
    "balanced_data = []\n",
    "for emotion, group in train_df.groupby('emotion'):\n",
    "    balanced_data.append(group.sample(n=min_size, random_state=42))\n",
    "\n",
    "balanced_df = pd.concat(balanced_data)\n",
    "print(balanced_df['emotion'].value_counts())"
   ]
  },
  {
   "cell_type": "code",
   "execution_count": null,
   "metadata": {},
   "outputs": [
    {
     "name": "stdout",
     "output_type": "stream",
     "text": [
      "load ok\n"
     ]
    }
   ],
   "source": [
    "from gensim.models import KeyedVectors\n",
    "\n",
    "## Note: this model is very huge, this will take some time ...\n",
    "model_path = \"GoogleNews/GoogleNews-vectors-negative300.bin.gz\"\n",
    "w2v_google_model = KeyedVectors.load_word2vec_format(model_path, binary=True)\n",
    "print('load ok')"
   ]
  },
  {
   "cell_type": "code",
   "execution_count": null,
   "metadata": {},
   "outputs": [],
   "source": [
    "tfidf_vectorizer = TfidfVectorizer(max_features=30000)\n",
    "tfidf_vectorizer.fit(balanced_df['text'])\n",
    "terms = tfidf_vectorizer.get_feature_names_out()"
   ]
  },
  {
   "cell_type": "code",
   "execution_count": null,
   "metadata": {},
   "outputs": [
    {
     "name": "stderr",
     "output_type": "stream",
     "text": [
      "C:\\Users\\USER\\AppData\\Local\\Temp\\ipykernel_21640\\3674006329.py:21: TqdmDeprecationWarning: This function will be removed in tqdm==5.0.0\n",
      "Please use `tqdm.notebook.tqdm` instead of `tqdm.tqdm_notebook`\n",
      "  tqdm_notebook().pandas()\n"
     ]
    },
    {
     "data": {
      "application/vnd.jupyter.widget-view+json": {
       "model_id": "45b594d6c24c43c7a35ddb56ea1f4f72",
       "version_major": 2,
       "version_minor": 0
      },
      "text/plain": [
       "0it [00:00, ?it/s]"
      ]
     },
     "metadata": {},
     "output_type": "display_data"
    },
    {
     "data": {
      "application/vnd.jupyter.widget-view+json": {
       "model_id": "9de81f2dbfb64c7cbc2e199b7dae2621",
       "version_major": 2,
       "version_minor": 0
      },
      "text/plain": [
       "  0%|          | 0/240000 [00:00<?, ?it/s]"
      ]
     },
     "metadata": {},
     "output_type": "display_data"
    },
    {
     "name": "stdout",
     "output_type": "stream",
     "text": [
      "1294011    [0.02650919992970869, 0.03849343222123638, 0.0...\n",
      "411063     [0.13267740995570743, -0.03142471153237727, 0....\n",
      "1240310    [0.01099047261253711, 0.018575470193708057, 0....\n",
      "479230     [0.08731845322088568, 0.18283185314784675, -0....\n",
      "47516      [0.07896231952208625, 0.03677148916708311, 0.0...\n",
      "Name: w2v_vector, dtype: object\n"
     ]
    }
   ],
   "source": [
    "def text_to_weighted_w2v(text, model, vectorizer):\n",
    "    tfidf_weights = vectorizer.transform([text])  # 計算 TF-IDF 權重\n",
    "    feature_names = vectorizer.get_feature_names_out()\n",
    "    \n",
    "    words = text.split()\n",
    "    weighted_vector = np.zeros(model.vector_size)\n",
    "    total_weight = 0.0\n",
    "    \n",
    "    for word in words:\n",
    "        if word in model and word in feature_names:\n",
    "            idx = vectorizer.vocabulary_.get(word)\n",
    "            weight = tfidf_weights[0, idx]\n",
    "            weighted_vector += model[word] * weight\n",
    "            total_weight += weight\n",
    "    \n",
    "    if total_weight > 0:\n",
    "        weighted_vector /= total_weight\n",
    "    \n",
    "    return weighted_vector\n",
    "\n",
    "tqdm_notebook().pandas()\n",
    "\n",
    "balanced_df['w2v_vector'] = balanced_df['text'].progress_apply(lambda x: text_to_weighted_w2v(x, w2v_google_model, tfidf_vectorizer))\n",
    "print(balanced_df['w2v_vector'].head())"
   ]
  },
  {
   "cell_type": "code",
   "execution_count": null,
   "metadata": {},
   "outputs": [],
   "source": [
    "balanced_df\n",
    "balanced_df.to_pickle(\"balanced_df.pkl\") "
   ]
  },
  {
   "cell_type": "code",
   "execution_count": null,
   "metadata": {},
   "outputs": [
    {
     "data": {
      "text/html": [
       "<div>\n",
       "<style scoped>\n",
       "    .dataframe tbody tr th:only-of-type {\n",
       "        vertical-align: middle;\n",
       "    }\n",
       "\n",
       "    .dataframe tbody tr th {\n",
       "        vertical-align: top;\n",
       "    }\n",
       "\n",
       "    .dataframe thead th {\n",
       "        text-align: right;\n",
       "    }\n",
       "</style>\n",
       "<table border=\"1\" class=\"dataframe\">\n",
       "  <thead>\n",
       "    <tr style=\"text-align: right;\">\n",
       "      <th></th>\n",
       "      <th>_score</th>\n",
       "      <th>_crawldate</th>\n",
       "      <th>tweet_id</th>\n",
       "      <th>hashtags</th>\n",
       "      <th>text</th>\n",
       "      <th>emotion</th>\n",
       "      <th>numerical_emotion</th>\n",
       "      <th>w2v_vector</th>\n",
       "    </tr>\n",
       "  </thead>\n",
       "  <tbody>\n",
       "    <tr>\n",
       "      <th>1294011</th>\n",
       "      <td>462</td>\n",
       "      <td>2016-08-26 15:39:21</td>\n",
       "      <td>0x249df0</td>\n",
       "      <td>[]</td>\n",
       "      <td>@OptimumHelp when will we have service back fo...</td>\n",
       "      <td>anger</td>\n",
       "      <td>5</td>\n",
       "      <td>[0.02650919992970869, 0.03849343222123638, 0.0...</td>\n",
       "    </tr>\n",
       "    <tr>\n",
       "      <th>411063</th>\n",
       "      <td>637</td>\n",
       "      <td>2017-02-09 13:17:04</td>\n",
       "      <td>0x346447</td>\n",
       "      <td>[]</td>\n",
       "      <td>What gives @GoldenKnights ? Game's not on @ATT...</td>\n",
       "      <td>anger</td>\n",
       "      <td>5</td>\n",
       "      <td>[0.13267740995570743, -0.03142471153237727, 0....</td>\n",
       "    </tr>\n",
       "    <tr>\n",
       "      <th>1240310</th>\n",
       "      <td>280</td>\n",
       "      <td>2016-08-10 22:10:36</td>\n",
       "      <td>0x344f34</td>\n",
       "      <td>[EmbraceDebate]</td>\n",
       "      <td>I think @hen_ease killed the Mt. Rushmore toda...</td>\n",
       "      <td>anger</td>\n",
       "      <td>5</td>\n",
       "      <td>[0.01099047261253711, 0.018575470193708057, 0....</td>\n",
       "    </tr>\n",
       "    <tr>\n",
       "      <th>479230</th>\n",
       "      <td>806</td>\n",
       "      <td>2016-11-01 06:48:41</td>\n",
       "      <td>0x1f4b1b</td>\n",
       "      <td>[]</td>\n",
       "      <td>Thousands of blithering anamorphic pirates ! &lt;LH&gt;</td>\n",
       "      <td>anger</td>\n",
       "      <td>5</td>\n",
       "      <td>[0.08731845322088568, 0.18283185314784675, -0....</td>\n",
       "    </tr>\n",
       "    <tr>\n",
       "      <th>47516</th>\n",
       "      <td>747</td>\n",
       "      <td>2016-12-07 15:38:45</td>\n",
       "      <td>0x330516</td>\n",
       "      <td>[]</td>\n",
       "      <td>@Friday13thGame. When are the connection issue...</td>\n",
       "      <td>anger</td>\n",
       "      <td>5</td>\n",
       "      <td>[0.07896231952208625, 0.03677148916708311, 0.0...</td>\n",
       "    </tr>\n",
       "    <tr>\n",
       "      <th>...</th>\n",
       "      <td>...</td>\n",
       "      <td>...</td>\n",
       "      <td>...</td>\n",
       "      <td>...</td>\n",
       "      <td>...</td>\n",
       "      <td>...</td>\n",
       "      <td>...</td>\n",
       "      <td>...</td>\n",
       "    </tr>\n",
       "    <tr>\n",
       "      <th>671718</th>\n",
       "      <td>742</td>\n",
       "      <td>2015-06-17 04:55:35</td>\n",
       "      <td>0x2bdc6a</td>\n",
       "      <td>[]</td>\n",
       "      <td>Family is actually the best gift life gives yo...</td>\n",
       "      <td>trust</td>\n",
       "      <td>6</td>\n",
       "      <td>[0.07474582016003223, -0.04359726143788164, 0....</td>\n",
       "    </tr>\n",
       "    <tr>\n",
       "      <th>69473</th>\n",
       "      <td>801</td>\n",
       "      <td>2016-10-04 12:43:27</td>\n",
       "      <td>0x298e90</td>\n",
       "      <td>[]</td>\n",
       "      <td>Happy Thanksgiving from us here at Headmaster!...</td>\n",
       "      <td>trust</td>\n",
       "      <td>6</td>\n",
       "      <td>[0.0189210606935624, 0.006160882249910753, 0.0...</td>\n",
       "    </tr>\n",
       "    <tr>\n",
       "      <th>168893</th>\n",
       "      <td>129</td>\n",
       "      <td>2015-10-19 10:09:36</td>\n",
       "      <td>0x2d4587</td>\n",
       "      <td>[SanJose]</td>\n",
       "      <td>Take the exam &amp; turn into an ensured certified...</td>\n",
       "      <td>trust</td>\n",
       "      <td>6</td>\n",
       "      <td>[-0.026589568283050376, -0.0026412656923471864...</td>\n",
       "    </tr>\n",
       "    <tr>\n",
       "      <th>218146</th>\n",
       "      <td>898</td>\n",
       "      <td>2016-11-25 22:09:59</td>\n",
       "      <td>0x2df232</td>\n",
       "      <td>[]</td>\n",
       "      <td>Your justice, O God, extends to the skies abov...</td>\n",
       "      <td>trust</td>\n",
       "      <td>6</td>\n",
       "      <td>[-0.024916633783051215, 0.12962183188986004, -...</td>\n",
       "    </tr>\n",
       "    <tr>\n",
       "      <th>16610</th>\n",
       "      <td>620</td>\n",
       "      <td>2016-06-25 08:46:33</td>\n",
       "      <td>0x1eb94b</td>\n",
       "      <td>[]</td>\n",
       "      <td>@NKOTB @PaulaAbdul @BoyzIIMen &lt;LH&gt;  love you</td>\n",
       "      <td>trust</td>\n",
       "      <td>6</td>\n",
       "      <td>[0.1418978697819365, -0.08868621980716512, 0.0...</td>\n",
       "    </tr>\n",
       "  </tbody>\n",
       "</table>\n",
       "<p>240000 rows × 8 columns</p>\n",
       "</div>"
      ],
      "text/plain": [
       "         _score           _crawldate  tweet_id         hashtags  \\\n",
       "1294011     462  2016-08-26 15:39:21  0x249df0               []   \n",
       "411063      637  2017-02-09 13:17:04  0x346447               []   \n",
       "1240310     280  2016-08-10 22:10:36  0x344f34  [EmbraceDebate]   \n",
       "479230      806  2016-11-01 06:48:41  0x1f4b1b               []   \n",
       "47516       747  2016-12-07 15:38:45  0x330516               []   \n",
       "...         ...                  ...       ...              ...   \n",
       "671718      742  2015-06-17 04:55:35  0x2bdc6a               []   \n",
       "69473       801  2016-10-04 12:43:27  0x298e90               []   \n",
       "168893      129  2015-10-19 10:09:36  0x2d4587        [SanJose]   \n",
       "218146      898  2016-11-25 22:09:59  0x2df232               []   \n",
       "16610       620  2016-06-25 08:46:33  0x1eb94b               []   \n",
       "\n",
       "                                                      text emotion  \\\n",
       "1294011  @OptimumHelp when will we have service back fo...   anger   \n",
       "411063   What gives @GoldenKnights ? Game's not on @ATT...   anger   \n",
       "1240310  I think @hen_ease killed the Mt. Rushmore toda...   anger   \n",
       "479230   Thousands of blithering anamorphic pirates ! <LH>   anger   \n",
       "47516    @Friday13thGame. When are the connection issue...   anger   \n",
       "...                                                    ...     ...   \n",
       "671718   Family is actually the best gift life gives yo...   trust   \n",
       "69473    Happy Thanksgiving from us here at Headmaster!...   trust   \n",
       "168893   Take the exam & turn into an ensured certified...   trust   \n",
       "218146   Your justice, O God, extends to the skies abov...   trust   \n",
       "16610         @NKOTB @PaulaAbdul @BoyzIIMen <LH>  love you   trust   \n",
       "\n",
       "         numerical_emotion                                         w2v_vector  \n",
       "1294011                  5  [0.02650919992970869, 0.03849343222123638, 0.0...  \n",
       "411063                   5  [0.13267740995570743, -0.03142471153237727, 0....  \n",
       "1240310                  5  [0.01099047261253711, 0.018575470193708057, 0....  \n",
       "479230                   5  [0.08731845322088568, 0.18283185314784675, -0....  \n",
       "47516                    5  [0.07896231952208625, 0.03677148916708311, 0.0...  \n",
       "...                    ...                                                ...  \n",
       "671718                   6  [0.07474582016003223, -0.04359726143788164, 0....  \n",
       "69473                    6  [0.0189210606935624, 0.006160882249910753, 0.0...  \n",
       "168893                   6  [-0.026589568283050376, -0.0026412656923471864...  \n",
       "218146                   6  [-0.024916633783051215, 0.12962183188986004, -...  \n",
       "16610                    6  [0.1418978697819365, -0.08868621980716512, 0.0...  \n",
       "\n",
       "[240000 rows x 8 columns]"
      ]
     },
     "metadata": {},
     "output_type": "display_data"
    }
   ],
   "source": [
    "balanced_df"
   ]
  },
  {
   "cell_type": "code",
   "execution_count": null,
   "metadata": {},
   "outputs": [
    {
     "name": "stdout",
     "output_type": "stream",
     "text": [
      "test:\n",
      "KNN Accuracy: 0.27686666666666665\n",
      "              precision    recall  f1-score   support\n",
      "\n",
      "       anger       0.26      0.38      0.31      7349\n",
      "anticipation       0.32      0.44      0.37      7529\n",
      "     disgust       0.25      0.23      0.24      7464\n",
      "        fear       0.32      0.28      0.30      7552\n",
      "         joy       0.23      0.33      0.27      7414\n",
      "     sadness       0.24      0.16      0.20      7559\n",
      "    surprise       0.27      0.16      0.20      7639\n",
      "       trust       0.33      0.24      0.28      7494\n",
      "\n",
      "    accuracy                           0.28     60000\n",
      "   macro avg       0.28      0.28      0.27     60000\n",
      "weighted avg       0.28      0.28      0.27     60000\n",
      "\n",
      "train:\n",
      "KNN Accuracy: 0.34182222222222225\n",
      "              precision    recall  f1-score   support\n",
      "\n",
      "       anger       0.32      0.46      0.38     22651\n",
      "anticipation       0.36      0.50      0.42     22471\n",
      "     disgust       0.33      0.30      0.31     22536\n",
      "        fear       0.38      0.34      0.36     22448\n",
      "         joy       0.28      0.39      0.32     22586\n",
      "     sadness       0.35      0.24      0.28     22441\n",
      "    surprise       0.37      0.22      0.27     22361\n",
      "       trust       0.40      0.29      0.34     22506\n",
      "\n",
      "    accuracy                           0.34    180000\n",
      "   macro avg       0.35      0.34      0.34    180000\n",
      "weighted avg       0.35      0.34      0.34    180000\n",
      "\n"
     ]
    }
   ],
   "source": [
    "train_df_70, test_df_30 = train_test_split(balanced_df, test_size=0.25, random_state=42)\n",
    "\n",
    "X_train = train_df_70['w2v_vector'].tolist()\n",
    "y_train = train_df_70['emotion']\n",
    "\n",
    "knn = KNeighborsClassifier(n_neighbors=30)\n",
    "knn.fit(X_train, y_train)\n",
    "\n",
    "X_test = test_df_30['w2v_vector'].tolist()\n",
    "y_test = test_df_30['emotion']\n",
    "\n",
    "y_pred_test = knn.predict(X_test)\n",
    "print(\"test:\")\n",
    "print(f'KNN Accuracy: {accuracy_score(y_test, y_pred_test)}')\n",
    "print(classification_report(y_true=y_test, y_pred=y_pred_test))\n",
    "\n",
    "y_pred_train = knn.predict(X_train)\n",
    "print(\"train:\")\n",
    "print(f'KNN Accuracy: {accuracy_score(y_train, y_pred_train)}')\n",
    "print(classification_report(y_true=y_train, y_pred=y_pred_train))"
   ]
  },
  {
   "cell_type": "code",
   "execution_count": null,
   "metadata": {},
   "outputs": [],
   "source": [
    "test_df_knn = test_df.copy()\n",
    "tqdm_notebook().pandas()\n",
    "test_df_knn['w2v_vector'] = test_df_knn['text'].progress_apply(lambda x: text_to_weighted_w2v(x, w2v_google_model, tfidf_vectorizer))\n",
    "test_df_knn_list = test_df_knn['w2v_vector'].tolist()\n",
    "\n",
    "pred_result = knn.predict(test_df_knn_list)\n",
    "list_of_tuples = list(zip(pred_result, test_df['tweet_id'].values))\n",
    "result = pd.DataFrame(list_of_tuples, columns=['emotion', 'id'])\n",
    "result"
   ]
  },
  {
   "cell_type": "markdown",
   "metadata": {},
   "source": [
    "### 5. tfidf matrix & Deep Neural Network"
   ]
  },
  {
   "cell_type": "code",
   "execution_count": null,
   "metadata": {},
   "outputs": [
    {
     "name": "stdout",
     "output_type": "stream",
     "text": [
      "emotion\n",
      "joy             250000\n",
      "anticipation    248935\n",
      "trust           205478\n",
      "sadness         193437\n",
      "disgust         139101\n",
      "fear             63999\n",
      "surprise         48729\n",
      "anger            39867\n",
      "Name: count, dtype: int64\n",
      "1189546\n"
     ]
    }
   ],
   "source": [
    "#min_size = train_df['emotion'].value_counts().min()\n",
    "#min_size = 35000\n",
    "min_size = 250000\n",
    "balanced_data = []\n",
    "for emotion, group in train_df.groupby('emotion'):\n",
    "    if emotion=='joy':\n",
    "        balanced_data.append(group.sample(n=min_size, random_state=42))\n",
    "    else:\n",
    "        balanced_data.append(group)\n",
    "\n",
    "balanced_df = pd.concat(balanced_data)\n",
    "print(balanced_df['emotion'].value_counts())\n",
    "print(balanced_df['emotion'].value_counts().sum())"
   ]
  },
  {
   "cell_type": "code",
   "execution_count": null,
   "metadata": {},
   "outputs": [],
   "source": [
    "train_df = balanced_df"
   ]
  },
  {
   "cell_type": "code",
   "execution_count": null,
   "metadata": {},
   "outputs": [
    {
     "name": "stdout",
     "output_type": "stream",
     "text": [
      "y_train.shape:  (1018894, 8)\n",
      "y_test.shape:  (436669, 8)\n"
     ]
    }
   ],
   "source": [
    "tfidf_vectorizer = TfidfVectorizer(max_features=30000)\n",
    "tfidf_vectorizer.fit(train_df['text'])\n",
    "terms = tfidf_vectorizer.get_feature_names_out()\n",
    "\n",
    "tfidf_matrix_train = tfidf_vectorizer.transform(train_df['text'])\n",
    "X_train, X_test, y_train, y_test = train_test_split(tfidf_matrix_train, train_df['emotion'], test_size=0.3, random_state=42)\n",
    "\n",
    "label_encoder = LabelEncoder()\n",
    "label_encoder.fit(y_train)\n",
    "def label_encode(le, labels):\n",
    "    enc = le.transform(labels)\n",
    "    return keras.utils.to_categorical(enc)\n",
    "def label_decode(le, one_hot_label):\n",
    "    dec = np.argmax(one_hot_label, axis=1)\n",
    "    return le.inverse_transform(dec)\n",
    "y_train = label_encode(label_encoder, y_train)\n",
    "y_test = label_encode(label_encoder, y_test)\n",
    "print('y_train.shape: ', y_train.shape)\n",
    "print('y_test.shape: ', y_test.shape)"
   ]
  },
  {
   "cell_type": "code",
   "execution_count": null,
   "metadata": {},
   "outputs": [
    {
     "name": "stdout",
     "output_type": "stream",
     "text": [
      "input_shape:  30000\n",
      "output_shape:  8\n"
     ]
    }
   ],
   "source": [
    "# I/O check\n",
    "input_shape = X_train.shape[1]\n",
    "print('input_shape: ', input_shape)\n",
    "\n",
    "output_shape = len(label_encoder.classes_)\n",
    "print('output_shape: ', output_shape)"
   ]
  },
  {
   "cell_type": "code",
   "execution_count": null,
   "metadata": {},
   "outputs": [
    {
     "data": {
      "text/html": [
       "<pre style=\"white-space:pre;overflow-x:auto;line-height:normal;font-family:Menlo,'DejaVu Sans Mono',consolas,'Courier New',monospace\"><span style=\"font-weight: bold\">Model: \"functional_9\"</span>\n",
       "</pre>\n"
      ],
      "text/plain": [
       "\u001b[1mModel: \"functional_9\"\u001b[0m\n"
      ]
     },
     "metadata": {},
     "output_type": "display_data"
    },
    {
     "data": {
      "text/html": [
       "<pre style=\"white-space:pre;overflow-x:auto;line-height:normal;font-family:Menlo,'DejaVu Sans Mono',consolas,'Courier New',monospace\">┏━━━━━━━━━━━━━━━━━━━━━━━━━━━━━━━━━━━━━━┳━━━━━━━━━━━━━━━━━━━━━━━━━━━━━┳━━━━━━━━━━━━━━━━━┓\n",
       "┃<span style=\"font-weight: bold\"> Layer (type)                         </span>┃<span style=\"font-weight: bold\"> Output Shape                </span>┃<span style=\"font-weight: bold\">         Param # </span>┃\n",
       "┡━━━━━━━━━━━━━━━━━━━━━━━━━━━━━━━━━━━━━━╇━━━━━━━━━━━━━━━━━━━━━━━━━━━━━╇━━━━━━━━━━━━━━━━━┩\n",
       "│ input_layer_9 (<span style=\"color: #0087ff; text-decoration-color: #0087ff\">InputLayer</span>)           │ (<span style=\"color: #00d7ff; text-decoration-color: #00d7ff\">None</span>, <span style=\"color: #00af00; text-decoration-color: #00af00\">30000</span>)               │               <span style=\"color: #00af00; text-decoration-color: #00af00\">0</span> │\n",
       "├──────────────────────────────────────┼─────────────────────────────┼─────────────────┤\n",
       "│ dense_29 (<span style=\"color: #0087ff; text-decoration-color: #0087ff\">Dense</span>)                     │ (<span style=\"color: #00d7ff; text-decoration-color: #00d7ff\">None</span>, <span style=\"color: #00af00; text-decoration-color: #00af00\">16</span>)                  │         <span style=\"color: #00af00; text-decoration-color: #00af00\">480,016</span> │\n",
       "├──────────────────────────────────────┼─────────────────────────────┼─────────────────┤\n",
       "│ re_lu_20 (<span style=\"color: #0087ff; text-decoration-color: #0087ff\">ReLU</span>)                      │ (<span style=\"color: #00d7ff; text-decoration-color: #00d7ff\">None</span>, <span style=\"color: #00af00; text-decoration-color: #00af00\">16</span>)                  │               <span style=\"color: #00af00; text-decoration-color: #00af00\">0</span> │\n",
       "├──────────────────────────────────────┼─────────────────────────────┼─────────────────┤\n",
       "│ dense_30 (<span style=\"color: #0087ff; text-decoration-color: #0087ff\">Dense</span>)                     │ (<span style=\"color: #00d7ff; text-decoration-color: #00d7ff\">None</span>, <span style=\"color: #00af00; text-decoration-color: #00af00\">12</span>)                  │             <span style=\"color: #00af00; text-decoration-color: #00af00\">204</span> │\n",
       "├──────────────────────────────────────┼─────────────────────────────┼─────────────────┤\n",
       "│ re_lu_21 (<span style=\"color: #0087ff; text-decoration-color: #0087ff\">ReLU</span>)                      │ (<span style=\"color: #00d7ff; text-decoration-color: #00d7ff\">None</span>, <span style=\"color: #00af00; text-decoration-color: #00af00\">12</span>)                  │               <span style=\"color: #00af00; text-decoration-color: #00af00\">0</span> │\n",
       "├──────────────────────────────────────┼─────────────────────────────┼─────────────────┤\n",
       "│ dense_31 (<span style=\"color: #0087ff; text-decoration-color: #0087ff\">Dense</span>)                     │ (<span style=\"color: #00d7ff; text-decoration-color: #00d7ff\">None</span>, <span style=\"color: #00af00; text-decoration-color: #00af00\">8</span>)                   │             <span style=\"color: #00af00; text-decoration-color: #00af00\">104</span> │\n",
       "├──────────────────────────────────────┼─────────────────────────────┼─────────────────┤\n",
       "│ softmax_9 (<span style=\"color: #0087ff; text-decoration-color: #0087ff\">Softmax</span>)                  │ (<span style=\"color: #00d7ff; text-decoration-color: #00d7ff\">None</span>, <span style=\"color: #00af00; text-decoration-color: #00af00\">8</span>)                   │               <span style=\"color: #00af00; text-decoration-color: #00af00\">0</span> │\n",
       "└──────────────────────────────────────┴─────────────────────────────┴─────────────────┘\n",
       "</pre>\n"
      ],
      "text/plain": [
       "┏━━━━━━━━━━━━━━━━━━━━━━━━━━━━━━━━━━━━━━┳━━━━━━━━━━━━━━━━━━━━━━━━━━━━━┳━━━━━━━━━━━━━━━━━┓\n",
       "┃\u001b[1m \u001b[0m\u001b[1mLayer (type)                        \u001b[0m\u001b[1m \u001b[0m┃\u001b[1m \u001b[0m\u001b[1mOutput Shape               \u001b[0m\u001b[1m \u001b[0m┃\u001b[1m \u001b[0m\u001b[1m        Param #\u001b[0m\u001b[1m \u001b[0m┃\n",
       "┡━━━━━━━━━━━━━━━━━━━━━━━━━━━━━━━━━━━━━━╇━━━━━━━━━━━━━━━━━━━━━━━━━━━━━╇━━━━━━━━━━━━━━━━━┩\n",
       "│ input_layer_9 (\u001b[38;5;33mInputLayer\u001b[0m)           │ (\u001b[38;5;45mNone\u001b[0m, \u001b[38;5;34m30000\u001b[0m)               │               \u001b[38;5;34m0\u001b[0m │\n",
       "├──────────────────────────────────────┼─────────────────────────────┼─────────────────┤\n",
       "│ dense_29 (\u001b[38;5;33mDense\u001b[0m)                     │ (\u001b[38;5;45mNone\u001b[0m, \u001b[38;5;34m16\u001b[0m)                  │         \u001b[38;5;34m480,016\u001b[0m │\n",
       "├──────────────────────────────────────┼─────────────────────────────┼─────────────────┤\n",
       "│ re_lu_20 (\u001b[38;5;33mReLU\u001b[0m)                      │ (\u001b[38;5;45mNone\u001b[0m, \u001b[38;5;34m16\u001b[0m)                  │               \u001b[38;5;34m0\u001b[0m │\n",
       "├──────────────────────────────────────┼─────────────────────────────┼─────────────────┤\n",
       "│ dense_30 (\u001b[38;5;33mDense\u001b[0m)                     │ (\u001b[38;5;45mNone\u001b[0m, \u001b[38;5;34m12\u001b[0m)                  │             \u001b[38;5;34m204\u001b[0m │\n",
       "├──────────────────────────────────────┼─────────────────────────────┼─────────────────┤\n",
       "│ re_lu_21 (\u001b[38;5;33mReLU\u001b[0m)                      │ (\u001b[38;5;45mNone\u001b[0m, \u001b[38;5;34m12\u001b[0m)                  │               \u001b[38;5;34m0\u001b[0m │\n",
       "├──────────────────────────────────────┼─────────────────────────────┼─────────────────┤\n",
       "│ dense_31 (\u001b[38;5;33mDense\u001b[0m)                     │ (\u001b[38;5;45mNone\u001b[0m, \u001b[38;5;34m8\u001b[0m)                   │             \u001b[38;5;34m104\u001b[0m │\n",
       "├──────────────────────────────────────┼─────────────────────────────┼─────────────────┤\n",
       "│ softmax_9 (\u001b[38;5;33mSoftmax\u001b[0m)                  │ (\u001b[38;5;45mNone\u001b[0m, \u001b[38;5;34m8\u001b[0m)                   │               \u001b[38;5;34m0\u001b[0m │\n",
       "└──────────────────────────────────────┴─────────────────────────────┴─────────────────┘\n"
      ]
     },
     "metadata": {},
     "output_type": "display_data"
    },
    {
     "data": {
      "text/html": [
       "<pre style=\"white-space:pre;overflow-x:auto;line-height:normal;font-family:Menlo,'DejaVu Sans Mono',consolas,'Courier New',monospace\"><span style=\"font-weight: bold\"> Total params: </span><span style=\"color: #00af00; text-decoration-color: #00af00\">480,324</span> (1.83 MB)\n",
       "</pre>\n"
      ],
      "text/plain": [
       "\u001b[1m Total params: \u001b[0m\u001b[38;5;34m480,324\u001b[0m (1.83 MB)\n"
      ]
     },
     "metadata": {},
     "output_type": "display_data"
    },
    {
     "data": {
      "text/html": [
       "<pre style=\"white-space:pre;overflow-x:auto;line-height:normal;font-family:Menlo,'DejaVu Sans Mono',consolas,'Courier New',monospace\"><span style=\"font-weight: bold\"> Trainable params: </span><span style=\"color: #00af00; text-decoration-color: #00af00\">480,324</span> (1.83 MB)\n",
       "</pre>\n"
      ],
      "text/plain": [
       "\u001b[1m Trainable params: \u001b[0m\u001b[38;5;34m480,324\u001b[0m (1.83 MB)\n"
      ]
     },
     "metadata": {},
     "output_type": "display_data"
    },
    {
     "data": {
      "text/html": [
       "<pre style=\"white-space:pre;overflow-x:auto;line-height:normal;font-family:Menlo,'DejaVu Sans Mono',consolas,'Courier New',monospace\"><span style=\"font-weight: bold\"> Non-trainable params: </span><span style=\"color: #00af00; text-decoration-color: #00af00\">0</span> (0.00 B)\n",
       "</pre>\n"
      ],
      "text/plain": [
       "\u001b[1m Non-trainable params: \u001b[0m\u001b[38;5;34m0\u001b[0m (0.00 B)\n"
      ]
     },
     "metadata": {},
     "output_type": "display_data"
    }
   ],
   "source": [
    "# input layer\n",
    "model_input = Input(shape=(input_shape, ))  # 30000\n",
    "X = model_input\n",
    "\n",
    "# 1st hidden layer\n",
    "X_W1 = Dense(units=16)(X)  # 128\n",
    "H1 = ReLU()(X_W1)\n",
    "\n",
    "# 2nd hidden layer\n",
    "H1_W2 = Dense(units=12)(H1)  # 64\n",
    "H2 = ReLU()(H1_W2)\n",
    "\n",
    "# output layer\n",
    "H2_W3 = Dense(units=output_shape)(H2)  # 8\n",
    "H3 = Softmax()(H2_W3)\n",
    "\n",
    "model_output = H3\n",
    "\n",
    "# create model\n",
    "model = Model(inputs=[model_input], outputs=[model_output])\n",
    "\n",
    "# loss function & optimizer\n",
    "model.compile(optimizer='adam',\n",
    "              loss='categorical_crossentropy',\n",
    "              metrics=['accuracy'])\n",
    "\n",
    "# show model construction\n",
    "model.summary()"
   ]
  },
  {
   "cell_type": "code",
   "execution_count": null,
   "metadata": {},
   "outputs": [
    {
     "data": {
      "text/html": [
       "<pre style=\"white-space:pre;overflow-x:auto;line-height:normal;font-family:Menlo,'DejaVu Sans Mono',consolas,'Courier New',monospace\"><span style=\"font-weight: bold\">Model: \"functional_7\"</span>\n",
       "</pre>\n"
      ],
      "text/plain": [
       "\u001b[1mModel: \"functional_7\"\u001b[0m\n"
      ]
     },
     "metadata": {},
     "output_type": "display_data"
    },
    {
     "data": {
      "text/html": [
       "<pre style=\"white-space:pre;overflow-x:auto;line-height:normal;font-family:Menlo,'DejaVu Sans Mono',consolas,'Courier New',monospace\">┏━━━━━━━━━━━━━━━━━━━━━━━━━━━━━━━━━━━━━━┳━━━━━━━━━━━━━━━━━━━━━━━━━━━━━┳━━━━━━━━━━━━━━━━━┓\n",
       "┃<span style=\"font-weight: bold\"> Layer (type)                         </span>┃<span style=\"font-weight: bold\"> Output Shape                </span>┃<span style=\"font-weight: bold\">         Param # </span>┃\n",
       "┡━━━━━━━━━━━━━━━━━━━━━━━━━━━━━━━━━━━━━━╇━━━━━━━━━━━━━━━━━━━━━━━━━━━━━╇━━━━━━━━━━━━━━━━━┩\n",
       "│ input_layer_7 (<span style=\"color: #0087ff; text-decoration-color: #0087ff\">InputLayer</span>)           │ (<span style=\"color: #00d7ff; text-decoration-color: #00d7ff\">None</span>, <span style=\"color: #00af00; text-decoration-color: #00af00\">30000</span>)               │               <span style=\"color: #00af00; text-decoration-color: #00af00\">0</span> │\n",
       "├──────────────────────────────────────┼─────────────────────────────┼─────────────────┤\n",
       "│ dense_22 (<span style=\"color: #0087ff; text-decoration-color: #0087ff\">Dense</span>)                     │ (<span style=\"color: #00d7ff; text-decoration-color: #00d7ff\">None</span>, <span style=\"color: #00af00; text-decoration-color: #00af00\">128</span>)                 │       <span style=\"color: #00af00; text-decoration-color: #00af00\">3,840,128</span> │\n",
       "├──────────────────────────────────────┼─────────────────────────────┼─────────────────┤\n",
       "│ re_lu_15 (<span style=\"color: #0087ff; text-decoration-color: #0087ff\">ReLU</span>)                      │ (<span style=\"color: #00d7ff; text-decoration-color: #00d7ff\">None</span>, <span style=\"color: #00af00; text-decoration-color: #00af00\">128</span>)                 │               <span style=\"color: #00af00; text-decoration-color: #00af00\">0</span> │\n",
       "├──────────────────────────────────────┼─────────────────────────────┼─────────────────┤\n",
       "│ dense_23 (<span style=\"color: #0087ff; text-decoration-color: #0087ff\">Dense</span>)                     │ (<span style=\"color: #00d7ff; text-decoration-color: #00d7ff\">None</span>, <span style=\"color: #00af00; text-decoration-color: #00af00\">128</span>)                 │          <span style=\"color: #00af00; text-decoration-color: #00af00\">16,512</span> │\n",
       "├──────────────────────────────────────┼─────────────────────────────┼─────────────────┤\n",
       "│ re_lu_16 (<span style=\"color: #0087ff; text-decoration-color: #0087ff\">ReLU</span>)                      │ (<span style=\"color: #00d7ff; text-decoration-color: #00d7ff\">None</span>, <span style=\"color: #00af00; text-decoration-color: #00af00\">128</span>)                 │               <span style=\"color: #00af00; text-decoration-color: #00af00\">0</span> │\n",
       "├──────────────────────────────────────┼─────────────────────────────┼─────────────────┤\n",
       "│ dense_24 (<span style=\"color: #0087ff; text-decoration-color: #0087ff\">Dense</span>)                     │ (<span style=\"color: #00d7ff; text-decoration-color: #00d7ff\">None</span>, <span style=\"color: #00af00; text-decoration-color: #00af00\">64</span>)                  │           <span style=\"color: #00af00; text-decoration-color: #00af00\">8,256</span> │\n",
       "├──────────────────────────────────────┼─────────────────────────────┼─────────────────┤\n",
       "│ re_lu_17 (<span style=\"color: #0087ff; text-decoration-color: #0087ff\">ReLU</span>)                      │ (<span style=\"color: #00d7ff; text-decoration-color: #00d7ff\">None</span>, <span style=\"color: #00af00; text-decoration-color: #00af00\">64</span>)                  │               <span style=\"color: #00af00; text-decoration-color: #00af00\">0</span> │\n",
       "├──────────────────────────────────────┼─────────────────────────────┼─────────────────┤\n",
       "│ dense_25 (<span style=\"color: #0087ff; text-decoration-color: #0087ff\">Dense</span>)                     │ (<span style=\"color: #00d7ff; text-decoration-color: #00d7ff\">None</span>, <span style=\"color: #00af00; text-decoration-color: #00af00\">8</span>)                   │             <span style=\"color: #00af00; text-decoration-color: #00af00\">520</span> │\n",
       "├──────────────────────────────────────┼─────────────────────────────┼─────────────────┤\n",
       "│ softmax_7 (<span style=\"color: #0087ff; text-decoration-color: #0087ff\">Softmax</span>)                  │ (<span style=\"color: #00d7ff; text-decoration-color: #00d7ff\">None</span>, <span style=\"color: #00af00; text-decoration-color: #00af00\">8</span>)                   │               <span style=\"color: #00af00; text-decoration-color: #00af00\">0</span> │\n",
       "└──────────────────────────────────────┴─────────────────────────────┴─────────────────┘\n",
       "</pre>\n"
      ],
      "text/plain": [
       "┏━━━━━━━━━━━━━━━━━━━━━━━━━━━━━━━━━━━━━━┳━━━━━━━━━━━━━━━━━━━━━━━━━━━━━┳━━━━━━━━━━━━━━━━━┓\n",
       "┃\u001b[1m \u001b[0m\u001b[1mLayer (type)                        \u001b[0m\u001b[1m \u001b[0m┃\u001b[1m \u001b[0m\u001b[1mOutput Shape               \u001b[0m\u001b[1m \u001b[0m┃\u001b[1m \u001b[0m\u001b[1m        Param #\u001b[0m\u001b[1m \u001b[0m┃\n",
       "┡━━━━━━━━━━━━━━━━━━━━━━━━━━━━━━━━━━━━━━╇━━━━━━━━━━━━━━━━━━━━━━━━━━━━━╇━━━━━━━━━━━━━━━━━┩\n",
       "│ input_layer_7 (\u001b[38;5;33mInputLayer\u001b[0m)           │ (\u001b[38;5;45mNone\u001b[0m, \u001b[38;5;34m30000\u001b[0m)               │               \u001b[38;5;34m0\u001b[0m │\n",
       "├──────────────────────────────────────┼─────────────────────────────┼─────────────────┤\n",
       "│ dense_22 (\u001b[38;5;33mDense\u001b[0m)                     │ (\u001b[38;5;45mNone\u001b[0m, \u001b[38;5;34m128\u001b[0m)                 │       \u001b[38;5;34m3,840,128\u001b[0m │\n",
       "├──────────────────────────────────────┼─────────────────────────────┼─────────────────┤\n",
       "│ re_lu_15 (\u001b[38;5;33mReLU\u001b[0m)                      │ (\u001b[38;5;45mNone\u001b[0m, \u001b[38;5;34m128\u001b[0m)                 │               \u001b[38;5;34m0\u001b[0m │\n",
       "├──────────────────────────────────────┼─────────────────────────────┼─────────────────┤\n",
       "│ dense_23 (\u001b[38;5;33mDense\u001b[0m)                     │ (\u001b[38;5;45mNone\u001b[0m, \u001b[38;5;34m128\u001b[0m)                 │          \u001b[38;5;34m16,512\u001b[0m │\n",
       "├──────────────────────────────────────┼─────────────────────────────┼─────────────────┤\n",
       "│ re_lu_16 (\u001b[38;5;33mReLU\u001b[0m)                      │ (\u001b[38;5;45mNone\u001b[0m, \u001b[38;5;34m128\u001b[0m)                 │               \u001b[38;5;34m0\u001b[0m │\n",
       "├──────────────────────────────────────┼─────────────────────────────┼─────────────────┤\n",
       "│ dense_24 (\u001b[38;5;33mDense\u001b[0m)                     │ (\u001b[38;5;45mNone\u001b[0m, \u001b[38;5;34m64\u001b[0m)                  │           \u001b[38;5;34m8,256\u001b[0m │\n",
       "├──────────────────────────────────────┼─────────────────────────────┼─────────────────┤\n",
       "│ re_lu_17 (\u001b[38;5;33mReLU\u001b[0m)                      │ (\u001b[38;5;45mNone\u001b[0m, \u001b[38;5;34m64\u001b[0m)                  │               \u001b[38;5;34m0\u001b[0m │\n",
       "├──────────────────────────────────────┼─────────────────────────────┼─────────────────┤\n",
       "│ dense_25 (\u001b[38;5;33mDense\u001b[0m)                     │ (\u001b[38;5;45mNone\u001b[0m, \u001b[38;5;34m8\u001b[0m)                   │             \u001b[38;5;34m520\u001b[0m │\n",
       "├──────────────────────────────────────┼─────────────────────────────┼─────────────────┤\n",
       "│ softmax_7 (\u001b[38;5;33mSoftmax\u001b[0m)                  │ (\u001b[38;5;45mNone\u001b[0m, \u001b[38;5;34m8\u001b[0m)                   │               \u001b[38;5;34m0\u001b[0m │\n",
       "└──────────────────────────────────────┴─────────────────────────────┴─────────────────┘\n"
      ]
     },
     "metadata": {},
     "output_type": "display_data"
    },
    {
     "data": {
      "text/html": [
       "<pre style=\"white-space:pre;overflow-x:auto;line-height:normal;font-family:Menlo,'DejaVu Sans Mono',consolas,'Courier New',monospace\"><span style=\"font-weight: bold\"> Total params: </span><span style=\"color: #00af00; text-decoration-color: #00af00\">3,865,416</span> (14.75 MB)\n",
       "</pre>\n"
      ],
      "text/plain": [
       "\u001b[1m Total params: \u001b[0m\u001b[38;5;34m3,865,416\u001b[0m (14.75 MB)\n"
      ]
     },
     "metadata": {},
     "output_type": "display_data"
    },
    {
     "data": {
      "text/html": [
       "<pre style=\"white-space:pre;overflow-x:auto;line-height:normal;font-family:Menlo,'DejaVu Sans Mono',consolas,'Courier New',monospace\"><span style=\"font-weight: bold\"> Trainable params: </span><span style=\"color: #00af00; text-decoration-color: #00af00\">3,865,416</span> (14.75 MB)\n",
       "</pre>\n"
      ],
      "text/plain": [
       "\u001b[1m Trainable params: \u001b[0m\u001b[38;5;34m3,865,416\u001b[0m (14.75 MB)\n"
      ]
     },
     "metadata": {},
     "output_type": "display_data"
    },
    {
     "data": {
      "text/html": [
       "<pre style=\"white-space:pre;overflow-x:auto;line-height:normal;font-family:Menlo,'DejaVu Sans Mono',consolas,'Courier New',monospace\"><span style=\"font-weight: bold\"> Non-trainable params: </span><span style=\"color: #00af00; text-decoration-color: #00af00\">0</span> (0.00 B)\n",
       "</pre>\n"
      ],
      "text/plain": [
       "\u001b[1m Non-trainable params: \u001b[0m\u001b[38;5;34m0\u001b[0m (0.00 B)\n"
      ]
     },
     "metadata": {},
     "output_type": "display_data"
    }
   ],
   "source": [
    "# input layer\n",
    "model_input = Input(shape=(input_shape, ))  # 30000\n",
    "X = model_input\n",
    "\n",
    "# 1st hidden layer\n",
    "X_W1 = Dense(units=128)(X)  # 128\n",
    "H1 = ReLU()(X_W1)\n",
    "\n",
    "# 2nd hidden layer\n",
    "H1_W2 = Dense(units=128)(H1)  # 128\n",
    "H2 = ReLU()(H1_W2)\n",
    "\n",
    "# 3nd hidden layer\n",
    "H2_W3 = Dense(units=64)(H2)  # 64\n",
    "H3 = ReLU()(H2_W3)\n",
    "\n",
    "# output layer\n",
    "H3_W4 = Dense(units=output_shape)(H3)  # 8\n",
    "H4 = Softmax()(H3_W4)\n",
    "\n",
    "model_output = H4\n",
    "\n",
    "# create model\n",
    "model = Model(inputs=[model_input], outputs=[model_output])\n",
    "\n",
    "# loss function & optimizer\n",
    "model.compile(optimizer='adam',\n",
    "              loss='categorical_crossentropy',\n",
    "              metrics=['accuracy'])\n",
    "\n",
    "# show model construction\n",
    "model.summary()"
   ]
  },
  {
   "cell_type": "code",
   "execution_count": null,
   "metadata": {},
   "outputs": [
    {
     "name": "stdout",
     "output_type": "stream",
     "text": [
      "Epoch 1/25\n"
     ]
    },
    {
     "name": "stderr",
     "output_type": "stream",
     "text": [
      "C:\\Users\\USER\\data\\python_virtual_env\\DM2024\\Lib\\site-packages\\keras\\src\\models\\functional.py:225: UserWarning: The structure of `inputs` doesn't match the expected structure: ['keras_tensor_60']. Received: the structure of inputs=*\n",
      "  warnings.warn(\n"
     ]
    },
    {
     "name": "stdout",
     "output_type": "stream",
     "text": [
      "\u001b[1m3981/3981\u001b[0m \u001b[32m━━━━━━━━━━━━━━━━━━━━\u001b[0m\u001b[37m\u001b[0m \u001b[1m69s\u001b[0m 17ms/step - accuracy: 0.4923 - loss: 1.4254 - val_accuracy: 0.5602 - val_loss: 1.2280\n",
      "Epoch 2/25\n",
      "\u001b[1m3981/3981\u001b[0m \u001b[32m━━━━━━━━━━━━━━━━━━━━\u001b[0m\u001b[37m\u001b[0m \u001b[1m66s\u001b[0m 17ms/step - accuracy: 0.5824 - loss: 1.1603 - val_accuracy: 0.5634 - val_loss: 1.2166\n",
      "Epoch 3/25\n",
      "\u001b[1m3981/3981\u001b[0m \u001b[32m━━━━━━━━━━━━━━━━━━━━\u001b[0m\u001b[37m\u001b[0m \u001b[1m66s\u001b[0m 17ms/step - accuracy: 0.5990 - loss: 1.1070 - val_accuracy: 0.5654 - val_loss: 1.2154\n",
      "Epoch 4/25\n",
      "\u001b[1m3981/3981\u001b[0m \u001b[32m━━━━━━━━━━━━━━━━━━━━\u001b[0m\u001b[37m\u001b[0m \u001b[1m66s\u001b[0m 16ms/step - accuracy: 0.6114 - loss: 1.0694 - val_accuracy: 0.5650 - val_loss: 1.2253\n",
      "Epoch 5/25\n",
      "\u001b[1m3981/3981\u001b[0m \u001b[32m━━━━━━━━━━━━━━━━━━━━\u001b[0m\u001b[37m\u001b[0m \u001b[1m66s\u001b[0m 17ms/step - accuracy: 0.6228 - loss: 1.0380 - val_accuracy: 0.5644 - val_loss: 1.2374\n",
      "Epoch 6/25\n",
      "\u001b[1m2746/3981\u001b[0m \u001b[32m━━━━━━━━━━━━━\u001b[0m\u001b[37m━━━━━━━\u001b[0m \u001b[1m16s\u001b[0m 14ms/step - accuracy: 0.6362 - loss: 1.0015"
     ]
    },
    {
     "ename": "KeyboardInterrupt",
     "evalue": "",
     "output_type": "error",
     "traceback": [
      "\u001b[1;31m---------------------------------------------------------------------------\u001b[0m\n",
      "\u001b[1;31mKeyboardInterrupt\u001b[0m                         Traceback (most recent call last)\n",
      "Cell \u001b[1;32mIn[67], line 18\u001b[0m\n",
      "\u001b[0;32m     16\u001b[0m epochs \u001b[38;5;241m=\u001b[39m \u001b[38;5;241m25\u001b[39m\n",
      "\u001b[0;32m     17\u001b[0m batch_size \u001b[38;5;241m=\u001b[39m \u001b[38;5;241m256\u001b[39m\n",
      "\u001b[1;32m---> 18\u001b[0m history \u001b[38;5;241m=\u001b[39m \u001b[43mmodel\u001b[49m\u001b[38;5;241;43m.\u001b[39;49m\u001b[43mfit\u001b[49m\u001b[43m(\u001b[49m\u001b[43mX_train\u001b[49m\u001b[43m,\u001b[49m\u001b[43m \u001b[49m\u001b[43my_train\u001b[49m\u001b[43m,\u001b[49m\u001b[43m \u001b[49m\n",
      "\u001b[0;32m     19\u001b[0m \u001b[43m                    \u001b[49m\u001b[43mepochs\u001b[49m\u001b[38;5;241;43m=\u001b[39;49m\u001b[43mepochs\u001b[49m\u001b[43m,\u001b[49m\u001b[43m \u001b[49m\n",
      "\u001b[0;32m     20\u001b[0m \u001b[43m                    \u001b[49m\u001b[43mbatch_size\u001b[49m\u001b[38;5;241;43m=\u001b[39;49m\u001b[43mbatch_size\u001b[49m\u001b[43m,\u001b[49m\u001b[43m \u001b[49m\n",
      "\u001b[0;32m     21\u001b[0m \u001b[43m                    \u001b[49m\u001b[43mcallbacks\u001b[49m\u001b[38;5;241;43m=\u001b[39;49m\u001b[43m[\u001b[49m\u001b[43mcsv_logger\u001b[49m\u001b[43m,\u001b[49m\u001b[43m \u001b[49m\u001b[43mearly_stopping\u001b[49m\u001b[43m,\u001b[49m\u001b[43m \u001b[49m\u001b[43mmodel_checkpoint\u001b[49m\u001b[43m]\u001b[49m\u001b[43m,\u001b[49m\n",
      "\u001b[0;32m     22\u001b[0m \u001b[43m                    \u001b[49m\u001b[43mvalidation_data\u001b[49m\u001b[43m \u001b[49m\u001b[38;5;241;43m=\u001b[39;49m\u001b[43m \u001b[49m\u001b[43m(\u001b[49m\u001b[43mX_test\u001b[49m\u001b[43m,\u001b[49m\u001b[43m \u001b[49m\u001b[43my_test\u001b[49m\u001b[43m)\u001b[49m\u001b[43m)\u001b[49m\n",
      "\u001b[0;32m     23\u001b[0m \u001b[38;5;28mprint\u001b[39m(\u001b[38;5;124m'\u001b[39m\u001b[38;5;124mtraining finish\u001b[39m\u001b[38;5;124m'\u001b[39m)\n",
      "\n",
      "File \u001b[1;32m~\\data\\python_virtual_env\\DM2024\\Lib\\site-packages\\keras\\src\\utils\\traceback_utils.py:117\u001b[0m, in \u001b[0;36mfilter_traceback.<locals>.error_handler\u001b[1;34m(*args, **kwargs)\u001b[0m\n",
      "\u001b[0;32m    115\u001b[0m filtered_tb \u001b[38;5;241m=\u001b[39m \u001b[38;5;28;01mNone\u001b[39;00m\n",
      "\u001b[0;32m    116\u001b[0m \u001b[38;5;28;01mtry\u001b[39;00m:\n",
      "\u001b[1;32m--> 117\u001b[0m     \u001b[38;5;28;01mreturn\u001b[39;00m \u001b[43mfn\u001b[49m\u001b[43m(\u001b[49m\u001b[38;5;241;43m*\u001b[39;49m\u001b[43margs\u001b[49m\u001b[43m,\u001b[49m\u001b[43m \u001b[49m\u001b[38;5;241;43m*\u001b[39;49m\u001b[38;5;241;43m*\u001b[39;49m\u001b[43mkwargs\u001b[49m\u001b[43m)\u001b[49m\n",
      "\u001b[0;32m    118\u001b[0m \u001b[38;5;28;01mexcept\u001b[39;00m \u001b[38;5;167;01mException\u001b[39;00m \u001b[38;5;28;01mas\u001b[39;00m e:\n",
      "\u001b[0;32m    119\u001b[0m     filtered_tb \u001b[38;5;241m=\u001b[39m _process_traceback_frames(e\u001b[38;5;241m.\u001b[39m__traceback__)\n",
      "\n",
      "File \u001b[1;32m~\\data\\python_virtual_env\\DM2024\\Lib\\site-packages\\keras\\src\\backend\\tensorflow\\trainer.py:320\u001b[0m, in \u001b[0;36mTensorFlowTrainer.fit\u001b[1;34m(self, x, y, batch_size, epochs, verbose, callbacks, validation_split, validation_data, shuffle, class_weight, sample_weight, initial_epoch, steps_per_epoch, validation_steps, validation_batch_size, validation_freq)\u001b[0m\n",
      "\u001b[0;32m    318\u001b[0m \u001b[38;5;28;01mfor\u001b[39;00m step, iterator \u001b[38;5;129;01min\u001b[39;00m epoch_iterator\u001b[38;5;241m.\u001b[39menumerate_epoch():\n",
      "\u001b[0;32m    319\u001b[0m     callbacks\u001b[38;5;241m.\u001b[39mon_train_batch_begin(step)\n",
      "\u001b[1;32m--> 320\u001b[0m     logs \u001b[38;5;241m=\u001b[39m \u001b[38;5;28;43mself\u001b[39;49m\u001b[38;5;241;43m.\u001b[39;49m\u001b[43mtrain_function\u001b[49m\u001b[43m(\u001b[49m\u001b[43miterator\u001b[49m\u001b[43m)\u001b[49m\n",
      "\u001b[0;32m    321\u001b[0m     callbacks\u001b[38;5;241m.\u001b[39mon_train_batch_end(step, logs)\n",
      "\u001b[0;32m    322\u001b[0m     \u001b[38;5;28;01mif\u001b[39;00m \u001b[38;5;28mself\u001b[39m\u001b[38;5;241m.\u001b[39mstop_training:\n",
      "\n",
      "File \u001b[1;32m~\\data\\python_virtual_env\\DM2024\\Lib\\site-packages\\tensorflow\\python\\util\\traceback_utils.py:150\u001b[0m, in \u001b[0;36mfilter_traceback.<locals>.error_handler\u001b[1;34m(*args, **kwargs)\u001b[0m\n",
      "\u001b[0;32m    148\u001b[0m filtered_tb \u001b[38;5;241m=\u001b[39m \u001b[38;5;28;01mNone\u001b[39;00m\n",
      "\u001b[0;32m    149\u001b[0m \u001b[38;5;28;01mtry\u001b[39;00m:\n",
      "\u001b[1;32m--> 150\u001b[0m   \u001b[38;5;28;01mreturn\u001b[39;00m \u001b[43mfn\u001b[49m\u001b[43m(\u001b[49m\u001b[38;5;241;43m*\u001b[39;49m\u001b[43margs\u001b[49m\u001b[43m,\u001b[49m\u001b[43m \u001b[49m\u001b[38;5;241;43m*\u001b[39;49m\u001b[38;5;241;43m*\u001b[39;49m\u001b[43mkwargs\u001b[49m\u001b[43m)\u001b[49m\n",
      "\u001b[0;32m    151\u001b[0m \u001b[38;5;28;01mexcept\u001b[39;00m \u001b[38;5;167;01mException\u001b[39;00m \u001b[38;5;28;01mas\u001b[39;00m e:\n",
      "\u001b[0;32m    152\u001b[0m   filtered_tb \u001b[38;5;241m=\u001b[39m _process_traceback_frames(e\u001b[38;5;241m.\u001b[39m__traceback__)\n",
      "\n",
      "File \u001b[1;32m~\\data\\python_virtual_env\\DM2024\\Lib\\site-packages\\tensorflow\\python\\eager\\polymorphic_function\\polymorphic_function.py:833\u001b[0m, in \u001b[0;36mFunction.__call__\u001b[1;34m(self, *args, **kwds)\u001b[0m\n",
      "\u001b[0;32m    830\u001b[0m compiler \u001b[38;5;241m=\u001b[39m \u001b[38;5;124m\"\u001b[39m\u001b[38;5;124mxla\u001b[39m\u001b[38;5;124m\"\u001b[39m \u001b[38;5;28;01mif\u001b[39;00m \u001b[38;5;28mself\u001b[39m\u001b[38;5;241m.\u001b[39m_jit_compile \u001b[38;5;28;01melse\u001b[39;00m \u001b[38;5;124m\"\u001b[39m\u001b[38;5;124mnonXla\u001b[39m\u001b[38;5;124m\"\u001b[39m\n",
      "\u001b[0;32m    832\u001b[0m \u001b[38;5;28;01mwith\u001b[39;00m OptionalXlaContext(\u001b[38;5;28mself\u001b[39m\u001b[38;5;241m.\u001b[39m_jit_compile):\n",
      "\u001b[1;32m--> 833\u001b[0m   result \u001b[38;5;241m=\u001b[39m \u001b[38;5;28;43mself\u001b[39;49m\u001b[38;5;241;43m.\u001b[39;49m\u001b[43m_call\u001b[49m\u001b[43m(\u001b[49m\u001b[38;5;241;43m*\u001b[39;49m\u001b[43margs\u001b[49m\u001b[43m,\u001b[49m\u001b[43m \u001b[49m\u001b[38;5;241;43m*\u001b[39;49m\u001b[38;5;241;43m*\u001b[39;49m\u001b[43mkwds\u001b[49m\u001b[43m)\u001b[49m\n",
      "\u001b[0;32m    835\u001b[0m new_tracing_count \u001b[38;5;241m=\u001b[39m \u001b[38;5;28mself\u001b[39m\u001b[38;5;241m.\u001b[39mexperimental_get_tracing_count()\n",
      "\u001b[0;32m    836\u001b[0m without_tracing \u001b[38;5;241m=\u001b[39m (tracing_count \u001b[38;5;241m==\u001b[39m new_tracing_count)\n",
      "\n",
      "File \u001b[1;32m~\\data\\python_virtual_env\\DM2024\\Lib\\site-packages\\tensorflow\\python\\eager\\polymorphic_function\\polymorphic_function.py:878\u001b[0m, in \u001b[0;36mFunction._call\u001b[1;34m(self, *args, **kwds)\u001b[0m\n",
      "\u001b[0;32m    875\u001b[0m \u001b[38;5;28mself\u001b[39m\u001b[38;5;241m.\u001b[39m_lock\u001b[38;5;241m.\u001b[39mrelease()\n",
      "\u001b[0;32m    876\u001b[0m \u001b[38;5;66;03m# In this case we have not created variables on the first call. So we can\u001b[39;00m\n",
      "\u001b[0;32m    877\u001b[0m \u001b[38;5;66;03m# run the first trace but we should fail if variables are created.\u001b[39;00m\n",
      "\u001b[1;32m--> 878\u001b[0m results \u001b[38;5;241m=\u001b[39m \u001b[43mtracing_compilation\u001b[49m\u001b[38;5;241;43m.\u001b[39;49m\u001b[43mcall_function\u001b[49m\u001b[43m(\u001b[49m\n",
      "\u001b[0;32m    879\u001b[0m \u001b[43m    \u001b[49m\u001b[43margs\u001b[49m\u001b[43m,\u001b[49m\u001b[43m \u001b[49m\u001b[43mkwds\u001b[49m\u001b[43m,\u001b[49m\u001b[43m \u001b[49m\u001b[38;5;28;43mself\u001b[39;49m\u001b[38;5;241;43m.\u001b[39;49m\u001b[43m_variable_creation_config\u001b[49m\n",
      "\u001b[0;32m    880\u001b[0m \u001b[43m\u001b[49m\u001b[43m)\u001b[49m\n",
      "\u001b[0;32m    881\u001b[0m \u001b[38;5;28;01mif\u001b[39;00m \u001b[38;5;28mself\u001b[39m\u001b[38;5;241m.\u001b[39m_created_variables:\n",
      "\u001b[0;32m    882\u001b[0m   \u001b[38;5;28;01mraise\u001b[39;00m \u001b[38;5;167;01mValueError\u001b[39;00m(\u001b[38;5;124m\"\u001b[39m\u001b[38;5;124mCreating variables on a non-first call to a function\u001b[39m\u001b[38;5;124m\"\u001b[39m\n",
      "\u001b[0;32m    883\u001b[0m                    \u001b[38;5;124m\"\u001b[39m\u001b[38;5;124m decorated with tf.function.\u001b[39m\u001b[38;5;124m\"\u001b[39m)\n",
      "\n",
      "File \u001b[1;32m~\\data\\python_virtual_env\\DM2024\\Lib\\site-packages\\tensorflow\\python\\eager\\polymorphic_function\\tracing_compilation.py:139\u001b[0m, in \u001b[0;36mcall_function\u001b[1;34m(args, kwargs, tracing_options)\u001b[0m\n",
      "\u001b[0;32m    137\u001b[0m bound_args \u001b[38;5;241m=\u001b[39m function\u001b[38;5;241m.\u001b[39mfunction_type\u001b[38;5;241m.\u001b[39mbind(\u001b[38;5;241m*\u001b[39margs, \u001b[38;5;241m*\u001b[39m\u001b[38;5;241m*\u001b[39mkwargs)\n",
      "\u001b[0;32m    138\u001b[0m flat_inputs \u001b[38;5;241m=\u001b[39m function\u001b[38;5;241m.\u001b[39mfunction_type\u001b[38;5;241m.\u001b[39munpack_inputs(bound_args)\n",
      "\u001b[1;32m--> 139\u001b[0m \u001b[38;5;28;01mreturn\u001b[39;00m \u001b[43mfunction\u001b[49m\u001b[38;5;241;43m.\u001b[39;49m\u001b[43m_call_flat\u001b[49m\u001b[43m(\u001b[49m\u001b[43m  \u001b[49m\u001b[38;5;66;43;03m# pylint: disable=protected-access\u001b[39;49;00m\n",
      "\u001b[0;32m    140\u001b[0m \u001b[43m    \u001b[49m\u001b[43mflat_inputs\u001b[49m\u001b[43m,\u001b[49m\u001b[43m \u001b[49m\u001b[43mcaptured_inputs\u001b[49m\u001b[38;5;241;43m=\u001b[39;49m\u001b[43mfunction\u001b[49m\u001b[38;5;241;43m.\u001b[39;49m\u001b[43mcaptured_inputs\u001b[49m\n",
      "\u001b[0;32m    141\u001b[0m \u001b[43m\u001b[49m\u001b[43m)\u001b[49m\n",
      "\n",
      "File \u001b[1;32m~\\data\\python_virtual_env\\DM2024\\Lib\\site-packages\\tensorflow\\python\\eager\\polymorphic_function\\concrete_function.py:1322\u001b[0m, in \u001b[0;36mConcreteFunction._call_flat\u001b[1;34m(self, tensor_inputs, captured_inputs)\u001b[0m\n",
      "\u001b[0;32m   1318\u001b[0m possible_gradient_type \u001b[38;5;241m=\u001b[39m gradients_util\u001b[38;5;241m.\u001b[39mPossibleTapeGradientTypes(args)\n",
      "\u001b[0;32m   1319\u001b[0m \u001b[38;5;28;01mif\u001b[39;00m (possible_gradient_type \u001b[38;5;241m==\u001b[39m gradients_util\u001b[38;5;241m.\u001b[39mPOSSIBLE_GRADIENT_TYPES_NONE\n",
      "\u001b[0;32m   1320\u001b[0m     \u001b[38;5;129;01mand\u001b[39;00m executing_eagerly):\n",
      "\u001b[0;32m   1321\u001b[0m   \u001b[38;5;66;03m# No tape is watching; skip to running the function.\u001b[39;00m\n",
      "\u001b[1;32m-> 1322\u001b[0m   \u001b[38;5;28;01mreturn\u001b[39;00m \u001b[38;5;28;43mself\u001b[39;49m\u001b[38;5;241;43m.\u001b[39;49m\u001b[43m_inference_function\u001b[49m\u001b[38;5;241;43m.\u001b[39;49m\u001b[43mcall_preflattened\u001b[49m\u001b[43m(\u001b[49m\u001b[43margs\u001b[49m\u001b[43m)\u001b[49m\n",
      "\u001b[0;32m   1323\u001b[0m forward_backward \u001b[38;5;241m=\u001b[39m \u001b[38;5;28mself\u001b[39m\u001b[38;5;241m.\u001b[39m_select_forward_and_backward_functions(\n",
      "\u001b[0;32m   1324\u001b[0m     args,\n",
      "\u001b[0;32m   1325\u001b[0m     possible_gradient_type,\n",
      "\u001b[0;32m   1326\u001b[0m     executing_eagerly)\n",
      "\u001b[0;32m   1327\u001b[0m forward_function, args_with_tangents \u001b[38;5;241m=\u001b[39m forward_backward\u001b[38;5;241m.\u001b[39mforward()\n",
      "\n",
      "File \u001b[1;32m~\\data\\python_virtual_env\\DM2024\\Lib\\site-packages\\tensorflow\\python\\eager\\polymorphic_function\\atomic_function.py:216\u001b[0m, in \u001b[0;36mAtomicFunction.call_preflattened\u001b[1;34m(self, args)\u001b[0m\n",
      "\u001b[0;32m    214\u001b[0m \u001b[38;5;28;01mdef\u001b[39;00m \u001b[38;5;21mcall_preflattened\u001b[39m(\u001b[38;5;28mself\u001b[39m, args: Sequence[core\u001b[38;5;241m.\u001b[39mTensor]) \u001b[38;5;241m-\u001b[39m\u001b[38;5;241m>\u001b[39m Any:\n",
      "\u001b[0;32m    215\u001b[0m \u001b[38;5;250m  \u001b[39m\u001b[38;5;124;03m\"\"\"Calls with flattened tensor inputs and returns the structured output.\"\"\"\u001b[39;00m\n",
      "\u001b[1;32m--> 216\u001b[0m   flat_outputs \u001b[38;5;241m=\u001b[39m \u001b[38;5;28;43mself\u001b[39;49m\u001b[38;5;241;43m.\u001b[39;49m\u001b[43mcall_flat\u001b[49m\u001b[43m(\u001b[49m\u001b[38;5;241;43m*\u001b[39;49m\u001b[43margs\u001b[49m\u001b[43m)\u001b[49m\n",
      "\u001b[0;32m    217\u001b[0m   \u001b[38;5;28;01mreturn\u001b[39;00m \u001b[38;5;28mself\u001b[39m\u001b[38;5;241m.\u001b[39mfunction_type\u001b[38;5;241m.\u001b[39mpack_output(flat_outputs)\n",
      "\n",
      "File \u001b[1;32m~\\data\\python_virtual_env\\DM2024\\Lib\\site-packages\\tensorflow\\python\\eager\\polymorphic_function\\atomic_function.py:251\u001b[0m, in \u001b[0;36mAtomicFunction.call_flat\u001b[1;34m(self, *args)\u001b[0m\n",
      "\u001b[0;32m    249\u001b[0m \u001b[38;5;28;01mwith\u001b[39;00m record\u001b[38;5;241m.\u001b[39mstop_recording():\n",
      "\u001b[0;32m    250\u001b[0m   \u001b[38;5;28;01mif\u001b[39;00m \u001b[38;5;28mself\u001b[39m\u001b[38;5;241m.\u001b[39m_bound_context\u001b[38;5;241m.\u001b[39mexecuting_eagerly():\n",
      "\u001b[1;32m--> 251\u001b[0m     outputs \u001b[38;5;241m=\u001b[39m \u001b[38;5;28;43mself\u001b[39;49m\u001b[38;5;241;43m.\u001b[39;49m\u001b[43m_bound_context\u001b[49m\u001b[38;5;241;43m.\u001b[39;49m\u001b[43mcall_function\u001b[49m\u001b[43m(\u001b[49m\n",
      "\u001b[0;32m    252\u001b[0m \u001b[43m        \u001b[49m\u001b[38;5;28;43mself\u001b[39;49m\u001b[38;5;241;43m.\u001b[39;49m\u001b[43mname\u001b[49m\u001b[43m,\u001b[49m\n",
      "\u001b[0;32m    253\u001b[0m \u001b[43m        \u001b[49m\u001b[38;5;28;43mlist\u001b[39;49m\u001b[43m(\u001b[49m\u001b[43margs\u001b[49m\u001b[43m)\u001b[49m\u001b[43m,\u001b[49m\n",
      "\u001b[0;32m    254\u001b[0m \u001b[43m        \u001b[49m\u001b[38;5;28;43mlen\u001b[39;49m\u001b[43m(\u001b[49m\u001b[38;5;28;43mself\u001b[39;49m\u001b[38;5;241;43m.\u001b[39;49m\u001b[43mfunction_type\u001b[49m\u001b[38;5;241;43m.\u001b[39;49m\u001b[43mflat_outputs\u001b[49m\u001b[43m)\u001b[49m\u001b[43m,\u001b[49m\n",
      "\u001b[0;32m    255\u001b[0m \u001b[43m    \u001b[49m\u001b[43m)\u001b[49m\n",
      "\u001b[0;32m    256\u001b[0m   \u001b[38;5;28;01melse\u001b[39;00m:\n",
      "\u001b[0;32m    257\u001b[0m     outputs \u001b[38;5;241m=\u001b[39m make_call_op_in_graph(\n",
      "\u001b[0;32m    258\u001b[0m         \u001b[38;5;28mself\u001b[39m,\n",
      "\u001b[0;32m    259\u001b[0m         \u001b[38;5;28mlist\u001b[39m(args),\n",
      "\u001b[0;32m    260\u001b[0m         \u001b[38;5;28mself\u001b[39m\u001b[38;5;241m.\u001b[39m_bound_context\u001b[38;5;241m.\u001b[39mfunction_call_options\u001b[38;5;241m.\u001b[39mas_attrs(),\n",
      "\u001b[0;32m    261\u001b[0m     )\n",
      "\n",
      "File \u001b[1;32m~\\data\\python_virtual_env\\DM2024\\Lib\\site-packages\\tensorflow\\python\\eager\\context.py:1683\u001b[0m, in \u001b[0;36mContext.call_function\u001b[1;34m(self, name, tensor_inputs, num_outputs)\u001b[0m\n",
      "\u001b[0;32m   1681\u001b[0m cancellation_context \u001b[38;5;241m=\u001b[39m cancellation\u001b[38;5;241m.\u001b[39mcontext()\n",
      "\u001b[0;32m   1682\u001b[0m \u001b[38;5;28;01mif\u001b[39;00m cancellation_context \u001b[38;5;129;01mis\u001b[39;00m \u001b[38;5;28;01mNone\u001b[39;00m:\n",
      "\u001b[1;32m-> 1683\u001b[0m   outputs \u001b[38;5;241m=\u001b[39m \u001b[43mexecute\u001b[49m\u001b[38;5;241;43m.\u001b[39;49m\u001b[43mexecute\u001b[49m\u001b[43m(\u001b[49m\n",
      "\u001b[0;32m   1684\u001b[0m \u001b[43m      \u001b[49m\u001b[43mname\u001b[49m\u001b[38;5;241;43m.\u001b[39;49m\u001b[43mdecode\u001b[49m\u001b[43m(\u001b[49m\u001b[38;5;124;43m\"\u001b[39;49m\u001b[38;5;124;43mutf-8\u001b[39;49m\u001b[38;5;124;43m\"\u001b[39;49m\u001b[43m)\u001b[49m\u001b[43m,\u001b[49m\n",
      "\u001b[0;32m   1685\u001b[0m \u001b[43m      \u001b[49m\u001b[43mnum_outputs\u001b[49m\u001b[38;5;241;43m=\u001b[39;49m\u001b[43mnum_outputs\u001b[49m\u001b[43m,\u001b[49m\n",
      "\u001b[0;32m   1686\u001b[0m \u001b[43m      \u001b[49m\u001b[43minputs\u001b[49m\u001b[38;5;241;43m=\u001b[39;49m\u001b[43mtensor_inputs\u001b[49m\u001b[43m,\u001b[49m\n",
      "\u001b[0;32m   1687\u001b[0m \u001b[43m      \u001b[49m\u001b[43mattrs\u001b[49m\u001b[38;5;241;43m=\u001b[39;49m\u001b[43mattrs\u001b[49m\u001b[43m,\u001b[49m\n",
      "\u001b[0;32m   1688\u001b[0m \u001b[43m      \u001b[49m\u001b[43mctx\u001b[49m\u001b[38;5;241;43m=\u001b[39;49m\u001b[38;5;28;43mself\u001b[39;49m\u001b[43m,\u001b[49m\n",
      "\u001b[0;32m   1689\u001b[0m \u001b[43m  \u001b[49m\u001b[43m)\u001b[49m\n",
      "\u001b[0;32m   1690\u001b[0m \u001b[38;5;28;01melse\u001b[39;00m:\n",
      "\u001b[0;32m   1691\u001b[0m   outputs \u001b[38;5;241m=\u001b[39m execute\u001b[38;5;241m.\u001b[39mexecute_with_cancellation(\n",
      "\u001b[0;32m   1692\u001b[0m       name\u001b[38;5;241m.\u001b[39mdecode(\u001b[38;5;124m\"\u001b[39m\u001b[38;5;124mutf-8\u001b[39m\u001b[38;5;124m\"\u001b[39m),\n",
      "\u001b[0;32m   1693\u001b[0m       num_outputs\u001b[38;5;241m=\u001b[39mnum_outputs,\n",
      "\u001b[1;32m   (...)\u001b[0m\n",
      "\u001b[0;32m   1697\u001b[0m       cancellation_manager\u001b[38;5;241m=\u001b[39mcancellation_context,\n",
      "\u001b[0;32m   1698\u001b[0m   )\n",
      "\n",
      "File \u001b[1;32m~\\data\\python_virtual_env\\DM2024\\Lib\\site-packages\\tensorflow\\python\\eager\\execute.py:53\u001b[0m, in \u001b[0;36mquick_execute\u001b[1;34m(op_name, num_outputs, inputs, attrs, ctx, name)\u001b[0m\n",
      "\u001b[0;32m     51\u001b[0m \u001b[38;5;28;01mtry\u001b[39;00m:\n",
      "\u001b[0;32m     52\u001b[0m   ctx\u001b[38;5;241m.\u001b[39mensure_initialized()\n",
      "\u001b[1;32m---> 53\u001b[0m   tensors \u001b[38;5;241m=\u001b[39m \u001b[43mpywrap_tfe\u001b[49m\u001b[38;5;241;43m.\u001b[39;49m\u001b[43mTFE_Py_Execute\u001b[49m\u001b[43m(\u001b[49m\u001b[43mctx\u001b[49m\u001b[38;5;241;43m.\u001b[39;49m\u001b[43m_handle\u001b[49m\u001b[43m,\u001b[49m\u001b[43m \u001b[49m\u001b[43mdevice_name\u001b[49m\u001b[43m,\u001b[49m\u001b[43m \u001b[49m\u001b[43mop_name\u001b[49m\u001b[43m,\u001b[49m\n",
      "\u001b[0;32m     54\u001b[0m \u001b[43m                                      \u001b[49m\u001b[43minputs\u001b[49m\u001b[43m,\u001b[49m\u001b[43m \u001b[49m\u001b[43mattrs\u001b[49m\u001b[43m,\u001b[49m\u001b[43m \u001b[49m\u001b[43mnum_outputs\u001b[49m\u001b[43m)\u001b[49m\n",
      "\u001b[0;32m     55\u001b[0m \u001b[38;5;28;01mexcept\u001b[39;00m core\u001b[38;5;241m.\u001b[39m_NotOkStatusException \u001b[38;5;28;01mas\u001b[39;00m e:\n",
      "\u001b[0;32m     56\u001b[0m   \u001b[38;5;28;01mif\u001b[39;00m name \u001b[38;5;129;01mis\u001b[39;00m \u001b[38;5;129;01mnot\u001b[39;00m \u001b[38;5;28;01mNone\u001b[39;00m:\n",
      "\n",
      "\u001b[1;31mKeyboardInterrupt\u001b[0m: "
     ]
    }
   ],
   "source": [
    "csv_logger = CSVLogger('logs/training_log.csv')\n",
    "\n",
    "early_stopping = EarlyStopping(\n",
    "    monitor='val_loss',\n",
    "    patience=5,\n",
    "    restore_best_weights=True\n",
    ")\n",
    "\n",
    "model_checkpoint = ModelCheckpoint(\n",
    "    filepath='models/best_model.keras',\n",
    "    monitor='val_loss',\n",
    "    save_best_only=True,\n",
    "    mode='min'\n",
    ")\n",
    "\n",
    "epochs = 25\n",
    "batch_size = 256\n",
    "history = model.fit(X_train, y_train, \n",
    "                    epochs=epochs, \n",
    "                    batch_size=batch_size, \n",
    "                    callbacks=[csv_logger, early_stopping, model_checkpoint],\n",
    "                    validation_data = (X_test, y_test))\n",
    "print('training finish')"
   ]
  },
  {
   "cell_type": "code",
   "execution_count": null,
   "metadata": {},
   "outputs": [
    {
     "name": "stdout",
     "output_type": "stream",
     "text": [
      "\u001b[1m3412/3412\u001b[0m \u001b[32m━━━━━━━━━━━━━━━━━━━━\u001b[0m\u001b[37m\u001b[0m \u001b[1m27s\u001b[0m 8ms/step\n",
      "\u001b[1m7961/7961\u001b[0m \u001b[32m━━━━━━━━━━━━━━━━━━━━\u001b[0m\u001b[37m\u001b[0m \u001b[1m63s\u001b[0m 8ms/step\n",
      "test: \n",
      "Accuracy: 0.5743297554898562\n",
      "\n",
      "Classification Report:\n",
      "               precision    recall  f1-score   support\n",
      "\n",
      "       anger     0.5455    0.2630    0.3549     11930\n",
      "anticipation     0.6592    0.5672    0.6097     74942\n",
      "     disgust     0.4458    0.4636    0.4545     41475\n",
      "        fear     0.7033    0.4068    0.5154     19225\n",
      "         joy     0.5834    0.7959    0.6733    154623\n",
      "     sadness     0.5029    0.5058    0.5043     58054\n",
      "    surprise     0.6198    0.2507    0.3570     14680\n",
      "       trust     0.5959    0.3563    0.4459     61740\n",
      "\n",
      "    accuracy                         0.5743    436669\n",
      "   macro avg     0.5820    0.4511    0.4894    436669\n",
      "weighted avg     0.5799    0.5743    0.5607    436669\n",
      "\n",
      "train: \n",
      "Accuracy: 0.6802189432855625\n",
      "\n",
      "Classification Report:\n",
      "               precision    recall  f1-score   support\n",
      "\n",
      "       anger     0.7683    0.3984    0.5247     27937\n",
      "anticipation     0.7686    0.6740    0.7182    173993\n",
      "     disgust     0.6011    0.6252    0.6129     97626\n",
      "        fear     0.8322    0.5126    0.6344     44774\n",
      "         joy     0.6526    0.8719    0.7465    361394\n",
      "     sadness     0.6341    0.6405    0.6373    135383\n",
      "    surprise     0.8288    0.3602    0.5022     34049\n",
      "       trust     0.7540    0.4636    0.5741    143738\n",
      "\n",
      "    accuracy                         0.6802   1018894\n",
      "   macro avg     0.7300    0.5683    0.6188   1018894\n",
      "weighted avg     0.6963    0.6802    0.6709   1018894\n",
      "\n"
     ]
    }
   ],
   "source": [
    "model.load_weights('models/best_model.keras')\n",
    "y_test_pred = model.predict(X_test, batch_size=128)\n",
    "test_pred_result = label_decode(label_encoder, y_test_pred)\n",
    "test_truth = label_decode(label_encoder, y_test)\n",
    "y_train_pred = model.predict(X_train, batch_size=128)\n",
    "train_pred_result = label_decode(label_encoder, y_train_pred)\n",
    "train_truth = label_decode(label_encoder, y_train)\n",
    "target_names = label_encoder.classes_\n",
    "\n",
    "print(\"test: \")\n",
    "print(\"Accuracy:\", accuracy_score(test_truth, test_pred_result))\n",
    "print(\"\\nClassification Report:\\n\", classification_report(test_truth, test_pred_result, target_names=target_names, digits=4))\n",
    "\n",
    "print(\"train: \")\n",
    "print(\"Accuracy:\", accuracy_score(train_truth, train_pred_result))\n",
    "print(\"\\nClassification Report:\\n\", classification_report(train_truth, train_pred_result, target_names=target_names, digits=4))"
   ]
  },
  {
   "cell_type": "code",
   "execution_count": null,
   "metadata": {},
   "outputs": [
    {
     "data": {
      "image/png": "[encoded data removed]",
      "text/plain": [
       "<Figure size 1000x1000 with 2 Axes>"
      ]
     },
     "metadata": {},
     "output_type": "display_data"
    }
   ],
   "source": [
    "# pred_result = model.predict(X_test, batch_size=128)\n",
    "# pred_result = label_decode(label_encoder, pred_result)\n",
    "# print('testing accuracy: {}'.format(round(accuracy_score(label_decode(label_encoder, y_test), pred_result), 2)))\n",
    "\n",
    "training_log = pd.DataFrame()\n",
    "training_log = pd.read_csv(\"logs/training_log.csv\")\n",
    "fig, axs = plt.subplots(2, 1, figsize=(10, 10))\n",
    "axs[0].plot(training_log['epoch'], training_log['accuracy'], label='Training accuracy')\n",
    "axs[0].plot(training_log['epoch'], training_log['val_accuracy'], label='Val accuracy')\n",
    "axs[0].set_xlabel('Epochs')\n",
    "axs[0].set_ylabel('Accuracy')\n",
    "axs[0].set_title('Training Accuracy per Epoch')\n",
    "axs[0].legend()\n",
    "axs[0].grid(False)\n",
    "axs[0].xaxis.set_major_locator(MultipleLocator(1))\n",
    "axs[0].set_xlim((0, 25))\n",
    "axs[1].plot(training_log['epoch'], training_log['loss'], label='Training loss')\n",
    "axs[1].plot(training_log['epoch'], training_log['val_loss'], label='Val loss')\n",
    "axs[1].set_xlabel('Epochs')\n",
    "axs[1].set_ylabel('Loss')\n",
    "axs[1].set_title('Training Loss per Epoch')\n",
    "axs[1].legend()\n",
    "axs[1].grid(False)\n",
    "axs[1].xaxis.set_major_locator(MultipleLocator(1))\n",
    "axs[1].set_xlim((0, 25))\n",
    "plt.tight_layout()\n",
    "plt.show()"
   ]
  },
  {
   "cell_type": "code",
   "execution_count": null,
   "metadata": {},
   "outputs": [
    {
     "name": "stdout",
     "output_type": "stream",
     "text": [
      "\u001b[1m3219/3219\u001b[0m \u001b[32m━━━━━━━━━━━━━━━━━━━━\u001b[0m\u001b[37m\u001b[0m \u001b[1m26s\u001b[0m 8ms/step\n"
     ]
    },
    {
     "data": {
      "text/html": [
       "<div>\n",
       "<style scoped>\n",
       "    .dataframe tbody tr th:only-of-type {\n",
       "        vertical-align: middle;\n",
       "    }\n",
       "\n",
       "    .dataframe tbody tr th {\n",
       "        vertical-align: top;\n",
       "    }\n",
       "\n",
       "    .dataframe thead th {\n",
       "        text-align: right;\n",
       "    }\n",
       "</style>\n",
       "<table border=\"1\" class=\"dataframe\">\n",
       "  <thead>\n",
       "    <tr style=\"text-align: right;\">\n",
       "      <th></th>\n",
       "      <th>emotion</th>\n",
       "      <th>id</th>\n",
       "    </tr>\n",
       "  </thead>\n",
       "  <tbody>\n",
       "    <tr>\n",
       "      <th>0</th>\n",
       "      <td>anticipation</td>\n",
       "      <td>0x28b412</td>\n",
       "    </tr>\n",
       "    <tr>\n",
       "      <th>1</th>\n",
       "      <td>anticipation</td>\n",
       "      <td>0x2de201</td>\n",
       "    </tr>\n",
       "    <tr>\n",
       "      <th>2</th>\n",
       "      <td>joy</td>\n",
       "      <td>0x218443</td>\n",
       "    </tr>\n",
       "    <tr>\n",
       "      <th>3</th>\n",
       "      <td>joy</td>\n",
       "      <td>0x2939d5</td>\n",
       "    </tr>\n",
       "    <tr>\n",
       "      <th>4</th>\n",
       "      <td>trust</td>\n",
       "      <td>0x26289a</td>\n",
       "    </tr>\n",
       "    <tr>\n",
       "      <th>...</th>\n",
       "      <td>...</td>\n",
       "      <td>...</td>\n",
       "    </tr>\n",
       "    <tr>\n",
       "      <th>411967</th>\n",
       "      <td>joy</td>\n",
       "      <td>0x2913b4</td>\n",
       "    </tr>\n",
       "    <tr>\n",
       "      <th>411968</th>\n",
       "      <td>anticipation</td>\n",
       "      <td>0x2a980e</td>\n",
       "    </tr>\n",
       "    <tr>\n",
       "      <th>411969</th>\n",
       "      <td>sadness</td>\n",
       "      <td>0x316b80</td>\n",
       "    </tr>\n",
       "    <tr>\n",
       "      <th>411970</th>\n",
       "      <td>joy</td>\n",
       "      <td>0x29d0cb</td>\n",
       "    </tr>\n",
       "    <tr>\n",
       "      <th>411971</th>\n",
       "      <td>sadness</td>\n",
       "      <td>0x2a6a4f</td>\n",
       "    </tr>\n",
       "  </tbody>\n",
       "</table>\n",
       "<p>411972 rows × 2 columns</p>\n",
       "</div>"
      ],
      "text/plain": [
       "             emotion        id\n",
       "0       anticipation  0x28b412\n",
       "1       anticipation  0x2de201\n",
       "2                joy  0x218443\n",
       "3                joy  0x2939d5\n",
       "4              trust  0x26289a\n",
       "...              ...       ...\n",
       "411967           joy  0x2913b4\n",
       "411968  anticipation  0x2a980e\n",
       "411969       sadness  0x316b80\n",
       "411970           joy  0x29d0cb\n",
       "411971       sadness  0x2a6a4f\n",
       "\n",
       "[411972 rows x 2 columns]"
      ]
     },
     "metadata": {},
     "output_type": "display_data"
    }
   ],
   "source": [
    "#model.load_weights('models/best_model.keras')\n",
    "X_predict = tfidf_vectorizer.transform(test_df['text'])\n",
    "pred_result = model.predict(X_predict, batch_size=128)\n",
    "pred_result = label_decode(label_encoder, pred_result)\n",
    "\n",
    "list_of_tuples = list(zip(pred_result, test_df['tweet_id'].values))\n",
    "result = pd.DataFrame(list_of_tuples, columns=['emotion', 'id'])\n",
    "result"
   ]
  },
  {
   "cell_type": "code",
   "execution_count": null,
   "metadata": {},
   "outputs": [],
   "source": [
    "result.to_csv('result.csv', index=False)"
   ]
  },
  {
   "cell_type": "markdown",
   "metadata": {},
   "source": [
    "### 6. LLM Embeddings & KNeighborsClassifier"
   ]
  },
  {
   "cell_type": "code",
   "execution_count": null,
   "metadata": {},
   "outputs": [],
   "source": [
    "min_size = 35000\n",
    "balanced_data = []\n",
    "for emotion, group in train_df.groupby('emotion'):\n",
    "    balanced_data.append(group.sample(n=min_size, random_state=42))\n",
    "\n",
    "balanced_df = pd.concat(balanced_data)\n",
    "print(balanced_df['emotion'].value_counts())"
   ]
  },
  {
   "cell_type": "code",
   "execution_count": null,
   "metadata": {},
   "outputs": [],
   "source": [
    "# Define a function to generate embeddings\n",
    "def generate_embeddings(row,text_column_name='text'):\n",
    "    embeddings = ollama.embeddings(\n",
    "        model='llama3.2:1b',\n",
    "        prompt=row[text_column_name],\n",
    "    )\n",
    "    return embeddings[\"embedding\"]"
   ]
  },
  {
   "cell_type": "code",
   "execution_count": null,
   "metadata": {},
   "outputs": [
    {
     "name": "stderr",
     "output_type": "stream",
     "text": [
      "C:\\Users\\USER\\AppData\\Local\\Temp\\ipykernel_21640\\265412493.py:12: TqdmDeprecationWarning: This function will be removed in tqdm==5.0.0\n",
      "Please use `tqdm.notebook.tqdm` instead of `tqdm.tqdm_notebook`\n",
      "  tqdm_notebook().pandas()\n"
     ]
    },
    {
     "data": {
      "application/vnd.jupyter.widget-view+json": {
       "model_id": "4fb6634f3dd740a3824fda9e7e423a66",
       "version_major": 2,
       "version_minor": 0
      },
      "text/plain": [
       "0it [00:00, ?it/s]"
      ]
     },
     "metadata": {},
     "output_type": "display_data"
    },
    {
     "data": {
      "application/vnd.jupyter.widget-view+json": {
       "model_id": "7da0ad0679f042efb22376394b1280c4",
       "version_major": 2,
       "version_minor": 0
      },
      "text/plain": [
       "  0%|          | 0/210000 [00:00<?, ?it/s]"
      ]
     },
     "metadata": {},
     "output_type": "display_data"
    }
   ],
   "source": [
    "#train_df_70, test_df_30 = train_test_split(train_df, test_size=0.3, random_state=42)\n",
    "train_df_70, test_df_30 = train_test_split(balanced_df, test_size=0.25, random_state=42)\n",
    "\n",
    "tqdm_notebook().pandas()\n",
    "column_name = 'text'\n",
    "# Apply the function to the specified column and store the result in a new column 'embeddings'\n",
    "train_df_70['embeddings'] = train_df_70.progress_apply(lambda row: generate_embeddings(row, column_name), axis=1)\n",
    "train_df_70.to_parquet('llm_embedding/train_df_70.parquet.gzip', compression='gzip')"
   ]
  },
  {
   "cell_type": "code",
   "execution_count": null,
   "metadata": {},
   "outputs": [
    {
     "data": {
      "application/vnd.jupyter.widget-view+json": {
       "model_id": "277de2f41db446b8a46e56bf9f384fa8",
       "version_major": 2,
       "version_minor": 0
      },
      "text/plain": [
       "  0%|          | 0/70000 [00:00<?, ?it/s]"
      ]
     },
     "metadata": {},
     "output_type": "display_data"
    }
   ],
   "source": [
    "test_df_30['embeddings'] = test_df_30.progress_apply(lambda row: generate_embeddings(row, column_name), axis=1)\n",
    "test_df_30.to_parquet('llm_embedding/test_df_30.parquet.gzip', compression='gzip')"
   ]
  },
  {
   "cell_type": "code",
   "execution_count": null,
   "metadata": {},
   "outputs": [
    {
     "name": "stdout",
     "output_type": "stream",
     "text": [
      "test:\n",
      "KNN Accuracy: 0.4068\n",
      "              precision    recall  f1-score   support\n",
      "\n",
      "       anger       0.36      0.56      0.44      8723\n",
      "anticipation       0.49      0.51      0.50      8726\n",
      "     disgust       0.34      0.35      0.34      8677\n",
      "        fear       0.42      0.53      0.46      8679\n",
      "         joy       0.41      0.37      0.39      8698\n",
      "     sadness       0.39      0.34      0.36      8808\n",
      "    surprise       0.44      0.25      0.32      8806\n",
      "       trust       0.45      0.35      0.39      8883\n",
      "\n",
      "    accuracy                           0.41     70000\n",
      "   macro avg       0.41      0.41      0.40     70000\n",
      "weighted avg       0.41      0.41      0.40     70000\n",
      "\n",
      "train:\n",
      "KNN Accuracy: 0.4596952380952381\n",
      "              precision    recall  f1-score   support\n",
      "\n",
      "       anger       0.41      0.61      0.49     26277\n",
      "anticipation       0.54      0.56      0.55     26274\n",
      "     disgust       0.41      0.42      0.41     26323\n",
      "        fear       0.46      0.56      0.50     26321\n",
      "         joy       0.48      0.43      0.45     26302\n",
      "     sadness       0.44      0.40      0.42     26192\n",
      "    surprise       0.50      0.30      0.38     26194\n",
      "       trust       0.51      0.40      0.45     26117\n",
      "\n",
      "    accuracy                           0.46    210000\n",
      "   macro avg       0.47      0.46      0.46    210000\n",
      "weighted avg       0.47      0.46      0.46    210000\n",
      "\n"
     ]
    }
   ],
   "source": [
    "# Let's use the new Llama 3.2 embeddings as our training features and the emotions as our labels\n",
    "X_train = train_df_70[\"embeddings\"].tolist()\n",
    "y_train = train_df_70['emotion']\n",
    "\n",
    "# Initialize the KNN classifier\n",
    "knn = KNeighborsClassifier(n_neighbors=30)\n",
    "knn.fit(X_train, y_train)\n",
    "\n",
    "X_test = test_df_30[\"embeddings\"].tolist()\n",
    "y_test = test_df_30['emotion']\n",
    "\n",
    "y_pred_test = knn.predict(X_test)\n",
    "print(\"test:\")\n",
    "print(f'KNN Accuracy: {accuracy_score(y_test, y_pred_test)}')\n",
    "print(classification_report(y_true=y_test, y_pred=y_pred_test))\n",
    "\n",
    "y_pred_train = knn.predict(X_train)\n",
    "print(\"train:\")\n",
    "print(f'KNN Accuracy: {accuracy_score(y_train, y_pred_train)}')\n",
    "print(classification_report(y_true=y_train, y_pred=y_pred_train))"
   ]
  },
  {
   "cell_type": "code",
   "execution_count": null,
   "metadata": {},
   "outputs": [
    {
     "name": "stdout",
     "output_type": "stream",
     "text": [
      "Model saved as knn_model.pkl\n"
     ]
    }
   ],
   "source": [
    "with open('knn_model_n10.pkl', 'wb') as f:\n",
    "    pickle.dump(knn, f)\n",
    "print(\"Model saved as knn_model.pkl\")"
   ]
  },
  {
   "cell_type": "code",
   "execution_count": null,
   "metadata": {},
   "outputs": [
    {
     "name": "stderr",
     "output_type": "stream",
     "text": [
      "C:\\Users\\USER\\AppData\\Local\\Temp\\ipykernel_22380\\3339545548.py:1: TqdmDeprecationWarning: This function will be removed in tqdm==5.0.0\n",
      "Please use `tqdm.notebook.tqdm` instead of `tqdm.tqdm_notebook`\n",
      "  tqdm_notebook().pandas()\n"
     ]
    },
    {
     "data": {
      "application/vnd.jupyter.widget-view+json": {
       "model_id": "93ca483b5a3d47e18ee232d6d37463f8",
       "version_major": 2,
       "version_minor": 0
      },
      "text/plain": [
       "0it [00:00, ?it/s]"
      ]
     },
     "metadata": {},
     "output_type": "display_data"
    },
    {
     "data": {
      "application/vnd.jupyter.widget-view+json": {
       "model_id": "1f4b83579bb340d895ecfc869429f3be",
       "version_major": 2,
       "version_minor": 0
      },
      "text/plain": [
       "  0%|          | 0/411972 [00:00<?, ?it/s]"
      ]
     },
     "metadata": {},
     "output_type": "display_data"
    }
   ],
   "source": [
    "tqdm_notebook().pandas()\n",
    "test_df_knn = test_df.copy()\n",
    "column_name = 'text'\n",
    "test_df_knn['embeddings'] = test_df_knn.progress_apply(lambda row: generate_embeddings(row, column_name), axis=1)\n",
    "test_df_knn_list = test_df_knn[\"embeddings\"].tolist()"
   ]
  },
  {
   "cell_type": "code",
   "execution_count": null,
   "metadata": {},
   "outputs": [
    {
     "name": "stdout",
     "output_type": "stream",
     "text": [
      "Model loaded\n"
     ]
    }
   ],
   "source": [
    "with open('knn_model_n10.pkl', 'rb') as f:\n",
    "    knn = pickle.load(f)\n",
    "print(\"Model loaded\")"
   ]
  },
  {
   "cell_type": "code",
   "execution_count": null,
   "metadata": {},
   "outputs": [
    {
     "data": {
      "text/html": [
       "<div>\n",
       "<style scoped>\n",
       "    .dataframe tbody tr th:only-of-type {\n",
       "        vertical-align: middle;\n",
       "    }\n",
       "\n",
       "    .dataframe tbody tr th {\n",
       "        vertical-align: top;\n",
       "    }\n",
       "\n",
       "    .dataframe thead th {\n",
       "        text-align: right;\n",
       "    }\n",
       "</style>\n",
       "<table border=\"1\" class=\"dataframe\">\n",
       "  <thead>\n",
       "    <tr style=\"text-align: right;\">\n",
       "      <th></th>\n",
       "      <th>emotion</th>\n",
       "      <th>id</th>\n",
       "    </tr>\n",
       "  </thead>\n",
       "  <tbody>\n",
       "    <tr>\n",
       "      <th>0</th>\n",
       "      <td>anticipation</td>\n",
       "      <td>0x28b412</td>\n",
       "    </tr>\n",
       "    <tr>\n",
       "      <th>1</th>\n",
       "      <td>joy</td>\n",
       "      <td>0x2de201</td>\n",
       "    </tr>\n",
       "    <tr>\n",
       "      <th>2</th>\n",
       "      <td>trust</td>\n",
       "      <td>0x218443</td>\n",
       "    </tr>\n",
       "    <tr>\n",
       "      <th>3</th>\n",
       "      <td>anticipation</td>\n",
       "      <td>0x2939d5</td>\n",
       "    </tr>\n",
       "    <tr>\n",
       "      <th>4</th>\n",
       "      <td>sadness</td>\n",
       "      <td>0x26289a</td>\n",
       "    </tr>\n",
       "    <tr>\n",
       "      <th>...</th>\n",
       "      <td>...</td>\n",
       "      <td>...</td>\n",
       "    </tr>\n",
       "    <tr>\n",
       "      <th>411967</th>\n",
       "      <td>anticipation</td>\n",
       "      <td>0x2913b4</td>\n",
       "    </tr>\n",
       "    <tr>\n",
       "      <th>411968</th>\n",
       "      <td>anticipation</td>\n",
       "      <td>0x2a980e</td>\n",
       "    </tr>\n",
       "    <tr>\n",
       "      <th>411969</th>\n",
       "      <td>anger</td>\n",
       "      <td>0x316b80</td>\n",
       "    </tr>\n",
       "    <tr>\n",
       "      <th>411970</th>\n",
       "      <td>fear</td>\n",
       "      <td>0x29d0cb</td>\n",
       "    </tr>\n",
       "    <tr>\n",
       "      <th>411971</th>\n",
       "      <td>anger</td>\n",
       "      <td>0x2a6a4f</td>\n",
       "    </tr>\n",
       "  </tbody>\n",
       "</table>\n",
       "<p>411972 rows × 2 columns</p>\n",
       "</div>"
      ],
      "text/plain": [
       "             emotion        id\n",
       "0       anticipation  0x28b412\n",
       "1                joy  0x2de201\n",
       "2              trust  0x218443\n",
       "3       anticipation  0x2939d5\n",
       "4            sadness  0x26289a\n",
       "...              ...       ...\n",
       "411967  anticipation  0x2913b4\n",
       "411968  anticipation  0x2a980e\n",
       "411969         anger  0x316b80\n",
       "411970          fear  0x29d0cb\n",
       "411971         anger  0x2a6a4f\n",
       "\n",
       "[411972 rows x 2 columns]"
      ]
     },
     "metadata": {},
     "output_type": "display_data"
    }
   ],
   "source": [
    "pred_result = knn.predict(test_df_knn_list)\n",
    "list_of_tuples = list(zip(pred_result, test_df['tweet_id'].values))\n",
    "result = pd.DataFrame(list_of_tuples, columns=['emotion', 'id'])\n",
    "result"
   ]
  },
  {
   "cell_type": "code",
   "execution_count": null,
   "metadata": {},
   "outputs": [],
   "source": [
    "result.to_csv('result.csv', index=False)"
   ]
  }
 ],
 "metadata": {
  "kernelspec": {
   "display_name": "Python 3 (ipykernel)",
   "language": "python",
   "name": "python3"
  },
  "language_info": {
   "codemirror_mode": {
    "name": "ipython",
    "version": 3
   },
   "file_extension": ".py",
   "mimetype": "text/x-python",
   "name": "python",
   "nbconvert_exporter": "python",
   "pygments_lexer": "ipython3",
   "version": "3.11.9"
  },
  "varInspector": {
   "cols": {
    "lenName": 16,
    "lenType": 16,
    "lenVar": 40
   },
   "kernels_config": {
    "python": {
     "delete_cmd_postfix": "",
     "delete_cmd_prefix": "del ",
     "library": "var_list.py",
     "varRefreshCmd": "print(var_dic_list())"
    },
    "r": {
     "delete_cmd_postfix": ") ",
     "delete_cmd_prefix": "rm(",
     "library": "var_list.r",
     "varRefreshCmd": "cat(var_dic_list()) "
    }
   },
   "types_to_exclude": [
    "module",
    "function",
    "builtin_function_or_method",
    "instance",
    "_Feature"
   ],
   "window_display": false
  }
 },
 "nbformat": 4,
 "nbformat_minor": 4
}
